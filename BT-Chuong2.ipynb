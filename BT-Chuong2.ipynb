{
 "cells": [
  {
   "cell_type": "code",
   "execution_count": 2,
   "id": "f276a6dd-8419-40d6-a750-df0e9b9d87d4",
   "metadata": {},
   "outputs": [
    {
     "name": "stdout",
     "output_type": "stream",
     "text": [
      "Sau khi đổi chỗ: a = 2, b = 5\n"
     ]
    }
   ],
   "source": [
    "# Bài 2.1\n",
    "a = 5\n",
    "b = 2\n",
    "a, b = b, a\n",
    "print(f\"Sau khi đổi chỗ: a = {a}, b = {b}\")"
   ]
  },
  {
   "cell_type": "code",
   "execution_count": 2,
   "id": "c3d5a929",
   "metadata": {},
   "outputs": [
    {
     "name": "stdout",
     "output_type": "stream",
     "text": [
      "7 là số nguyên tố.\n"
     ]
    }
   ],
   "source": [
    "# Hàm kiểm tra số nguyên tố\n",
    "def is_prime(n):\n",
    "    if n <= 1:\n",
    "        return False\n",
    "    for i in range(2, n):\n",
    "        if n % i == 0:\n",
    "            return False\n",
    "    return True\n",
    "\n",
    "# Nhập số nguyên dương từ bàn phím\n",
    "n = int(input(\"Nhập một số nguyên dương: \"))\n",
    "\n",
    "# Kiểm tra và in kết quả\n",
    "if is_prime(n):\n",
    "    print(f\"{n} là số nguyên tố.\")\n",
    "else:\n",
    "    print(f\"{n} là hợp số.\")\n"
   ]
  },
  {
   "cell_type": "code",
   "execution_count": 2,
   "id": "eecd90e1-ec0d-40e7-85ac-4b0bedc9a59e",
   "metadata": {},
   "outputs": [
    {
     "name": "stdout",
     "output_type": "stream",
     "text": [
      "Ba cạnh a, b, c vừa nhập là 3 cạnh của tam giác\n"
     ]
    }
   ],
   "source": [
    "# Bài 2.21\n",
    "a = int(input(\"Nhập a = \"))\n",
    "b = int(input(\"Nhập b = \"))\n",
    "c = int(input(\"Nhập c = \"))\n",
    "\n",
    "if(a + b > c, a + c > b, b + c > a):\n",
    "    print('Ba cạnh a, b, c vừa nhập là 3 cạnh của tam giác')\n",
    "else:\n",
    "    print('Ba cạnh a, b, c vừa nhập không phải là 3 cạnh của tam giác')"
   ]
  }
 ],
 "metadata": {
  "kernelspec": {
   "display_name": "Python 3",
   "language": "python",
   "name": "python3"
  },
  "language_info": {
   "codemirror_mode": {
    "name": "ipython",
    "version": 3
   },
   "file_extension": ".py",
   "mimetype": "text/x-python",
   "name": "python",
   "nbconvert_exporter": "python",
   "pygments_lexer": "ipython3",
   "version": "3.12.6"
  }
 },
 "nbformat": 4,
 "nbformat_minor": 5
}

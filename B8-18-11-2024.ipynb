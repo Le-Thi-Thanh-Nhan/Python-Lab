{
 "cells": [
  {
   "cell_type": "code",
   "execution_count": 7,
   "id": "e49bdf63-19fd-40e5-a55f-e4df94950594",
   "metadata": {},
   "outputs": [
    {
     "name": "stdout",
     "output_type": "stream",
     "text": [
      "Nhập thông tin hàng hóa: \n"
     ]
    },
    {
     "name": "stdin",
     "output_type": "stream",
     "text": [
      "Nhập mã hàng:  876\n",
      "Nhập tên hàng:  lop\n",
      "Nhập đơn giá:  23000\n"
     ]
    },
    {
     "name": "stdout",
     "output_type": "stream",
     "text": [
      "\n",
      "Thông tin hàng hóa: \n",
      "Mã hàng:  876\n",
      "Tên hãng:  lop\n",
      "Đơn giá:  23000\n",
      "\n"
     ]
    }
   ],
   "source": [
    "#Lớp HANGHOA gồm maHang, tenHang, donGia gồm các hàm: Hàm tạo, hàm nhập, hàm hiển thị\n",
    "class HANGHOA:\n",
    "    def __init__(self, maHang = '', tenHang = '', donGia = ''):\n",
    "        self.maHang = maHang\n",
    "        self.tenHang = tenHang\n",
    "        self.donGia = donGia\n",
    "\n",
    "    def Nhap(self):\n",
    "        self.maHang = input('Nhập mã hàng: ')\n",
    "        self.tenHang = input('Nhập tên hàng: ')\n",
    "        self.donGia = input('Nhập đơn giá: ')\n",
    "\n",
    "    def Xuat(self):\n",
    "        print('Mã hàng: ', self.maHang)\n",
    "        print('Tên hãng: ', self.tenHang)\n",
    "        print('Đơn giá: ', self.donGia)\n",
    "\n",
    "def main():\n",
    "    HH = HANGHOA()\n",
    "    print('Nhập thông tin hàng hóa: ')\n",
    "    HH.Nhap()\n",
    "    print()\n",
    "    print('Thông tin hàng hóa: ')\n",
    "    HH.Xuat()\n",
    "    print()\n",
    "\n",
    "if __name__ == \"__main__\":\n",
    "    main()"
   ]
  },
  {
   "cell_type": "code",
   "execution_count": null,
   "id": "5a5b2bac-747e-4174-9910-198039447a5d",
   "metadata": {},
   "outputs": [],
   "source": []
  }
 ],
 "metadata": {
  "kernelspec": {
   "display_name": "Python 3 (ipykernel)",
   "language": "python",
   "name": "python3"
  },
  "language_info": {
   "codemirror_mode": {
    "name": "ipython",
    "version": 3
   },
   "file_extension": ".py",
   "mimetype": "text/x-python",
   "name": "python",
   "nbconvert_exporter": "python",
   "pygments_lexer": "ipython3",
   "version": "3.12.6"
  }
 },
 "nbformat": 4,
 "nbformat_minor": 5
}

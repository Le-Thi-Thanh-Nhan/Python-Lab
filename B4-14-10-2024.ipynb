{
 "cells": [
  {
   "cell_type": "code",
   "execution_count": 6,
   "id": "74e893f2-3503-4d03-ae74-4105a3f687d8",
   "metadata": {},
   "outputs": [
    {
     "name": "stdout",
     "output_type": "stream",
     "text": [
      "Đây là Hổ\n",
      "Đây là Họa mi\n",
      "Đây là Mèo\n"
     ]
    }
   ],
   "source": [
    "class Animal:\n",
    "    def __init__(self, name = 'Động vật'):\n",
    "                 self.name = name\n",
    "    def say(self):\n",
    "        print(f'Đây là {self.name}')\n",
    "\n",
    "d = Animal('Hổ')\n",
    "d.say()\n",
    "\n",
    "class Bird(Animal):\n",
    "    def say(self):\n",
    "        print('Đây là %s' %(self.name))\n",
    "\n",
    "c = Bird('Họa mi')\n",
    "c.say()\n",
    "\n",
    "class Cat(Animal):\n",
    "    def say(self):\n",
    "        print(f'Đây là {self.name}')\n",
    "\n",
    "c = Cat('Mèo')\n",
    "c.say()"
   ]
  },
  {
   "cell_type": "code",
   "execution_count": 48,
   "id": "9010cede-6769-4f29-a71f-f546c0e6258f",
   "metadata": {},
   "outputs": [
    {
     "name": "stdout",
     "output_type": "stream",
     "text": [
      "Nhập thông tin sinh viên: \n"
     ]
    },
    {
     "name": "stdin",
     "output_type": "stream",
     "text": [
      "Nhập mã sinh viên:  2435\n",
      "Nhập họ tên sinh viên:  sd\n",
      "Nhập năm sinh:  234\n"
     ]
    },
    {
     "name": "stdout",
     "output_type": "stream",
     "text": [
      "\n",
      "Thông tin sinh viên: \n",
      "Mã sinh viên:  2435\n",
      "Họ tên:  sd\n",
      "Năm sinh:  234\n",
      "\n",
      "Nhập thông tin sinh viên IT: \n"
     ]
    },
    {
     "name": "stdin",
     "output_type": "stream",
     "text": [
      "Nhập mã sinh viên:  243\n",
      "Nhập họ tên sinh viên:  fcd\n",
      "Nhập năm sinh:  23432\n",
      "Nhập tên ngành:  dff\n"
     ]
    },
    {
     "name": "stdout",
     "output_type": "stream",
     "text": [
      "\n",
      "Thông tin sinh viên IT: \n",
      "Mã sinh viên:  243\n",
      "Họ tên:  fcd\n",
      "Năm sinh:  23432\n",
      "Chuyên ngành:  dff\n",
      "\n"
     ]
    },
    {
     "name": "stdin",
     "output_type": "stream",
     "text": [
      "Bạn có muốn cập nhật chuyên ngành không? (yes/no):  YEs\n",
      "Nhập chuyên ngành mới:  cntt\n"
     ]
    },
    {
     "name": "stdout",
     "output_type": "stream",
     "text": [
      "Chuyên ngành đã cập nhật thành:  cntt\n",
      "Thông tin sinh viên sau cập nhật: \n",
      "Mã sinh viên:  243\n",
      "Họ tên:  fcd\n",
      "Năm sinh:  23432\n",
      "Chuyên ngành:  cntt\n"
     ]
    }
   ],
   "source": [
    "#Xây dụng lớp SV gồm có mã sv, họ tên, năm sinh, các phương thức nhập, hiển thị, hàm tạo\n",
    "#Xây dựng lớp SVIT kế thừa từ lớp SV và có thêm thuộc tính chuyên ngành, các phương thức như đối với lớp SV, có thêm phương thức cập nhật chuyên ngành\n",
    "\n",
    "class SV:\n",
    "    def __init__(self, maSV = '', HoTen = '', NamSinh = ''):\n",
    "        self.maSV = maSV\n",
    "        self.HoTen = HoTen\n",
    "        self.NamSinh = NamSinh\n",
    "\n",
    "    def Nhap(self):\n",
    "        self.maSV = input('Nhập mã sinh viên: ')\n",
    "        self.HoTen = input('Nhập họ tên sinh viên: ')\n",
    "        self.NamSinh = input('Nhập năm sinh: ')\n",
    "\n",
    "    def Xuat(self):\n",
    "        print('Mã sinh viên: ', self.maSV)\n",
    "        print('Họ tên: ', self.HoTen)\n",
    "        print('Năm sinh: ', self.NamSinh)\n",
    "\n",
    "class SVIT(SV):\n",
    "    def __init__(self, maSV = '', HoTen = '', NamSinh = '', Nganh = ''):\n",
    "        super().__init__(maSV, HoTen, NamSinh)\n",
    "        self.Nganh = Nganh\n",
    "\n",
    "    def Nhap(self):\n",
    "        super().Nhap()\n",
    "        self.Nganh = input('Nhập tên ngành: ')\n",
    "\n",
    "    def Xuat(self):\n",
    "        super().Xuat()\n",
    "        print('Chuyên ngành: ', self.Nganh)\n",
    "\n",
    "    def Update(self, Nganh_new):\n",
    "        self.Nganh = Nganh_new\n",
    "        print('Chuyên ngành đã cập nhật thành: ', self.Nganh)\n",
    "\n",
    "def main():\n",
    "    SinhVien = SV()\n",
    "    print('Nhập thông tin sinh viên: ')\n",
    "    SinhVien.Nhap()\n",
    "    print()\n",
    "    print('Thông tin sinh viên: ')\n",
    "    SinhVien.Xuat()\n",
    "    print()\n",
    "\n",
    "    svit = SVIT()\n",
    "    print('Nhập thông tin sinh viên IT: ')\n",
    "    svit.Nhap()\n",
    "    print()\n",
    "    print('Thông tin sinh viên IT: ')\n",
    "    svit.Xuat()\n",
    "    print()\n",
    "    cap_nhat = input('Bạn có muốn cập nhật chuyên ngành không? (yes/no): ')\n",
    "    if cap_nhat.lower() == 'yes':\n",
    "        Nganh_new = input('Nhập chuyên ngành mới: ')\n",
    "        svit.Update(Nganh_new)\n",
    "    print('Thông tin sinh viên sau cập nhật: ')\n",
    "    svit.Xuat()\n",
    "    \n",
    "if __name__ == \"__main__\":\n",
    "    main()"
   ]
  },
  {
   "cell_type": "code",
   "execution_count": 44,
   "id": "c3f5d46f-1b7b-42db-963d-e1f0a113a6bd",
   "metadata": {},
   "outputs": [
    {
     "name": "stdout",
     "output_type": "stream",
     "text": [
      "Point2D (7.000000, 8.000000)\n"
     ]
    }
   ],
   "source": [
    "class Point2D:\n",
    "    def __init__(self, x=0, y=0):\n",
    "        self.x = x\n",
    "        self.y = y\n",
    "    \n",
    "    def __str__(self):\n",
    "        return 'Point2D (%.6f, %.6f)' % (self.x, self.y)\n",
    "    \n",
    "    def __add__(self, other):\n",
    "        return Point2D(self.x + other.x, self.y + other.y)\n",
    "\n",
    "# Khởi tạo các đối tượng và in kết quả\n",
    "p1 = Point2D(2, 10)\n",
    "p2 = Point2D(5, -2)\n",
    "print(p1 + p2)"
   ]
  },
  {
   "cell_type": "code",
   "execution_count": 51,
   "id": "c57ae78b-6d3f-4c64-87bf-b96d161edf35",
   "metadata": {},
   "outputs": [
    {
     "name": "stdout",
     "output_type": "stream",
     "text": [
      "1/2\n",
      "1/3\n",
      "1/2 + 1/3 = 5/6\n",
      "1/2 - 1/3 = 1/6\n"
     ]
    }
   ],
   "source": [
    "class  PhanSo:\n",
    "    def __init__(self, t, m):\n",
    "        self.t = t\n",
    "        self.m = m\n",
    "        \n",
    "    def __str__(self):\n",
    "        return \"%d/%d\"%(self.t, self.m)\n",
    "    \n",
    "    def __add__(self, p):\n",
    "        t = self.t*p.m + p.t*self.m\n",
    "        m = p.m * self.m\n",
    "        return PhanSo(t, m)\n",
    "    \n",
    "    def __sub__(self, p):\n",
    "        t = self.t*p.m - p.t*self.m\n",
    "        m = p.m * self.m\n",
    "        return PhanSo(t, m)\n",
    "    \n",
    "p, q = PhanSo(1,2), PhanSo(1,3)\n",
    "\n",
    "print(p)\n",
    "print(q)\n",
    "k = p+q\n",
    "print(f\"{p} + {q} = {k}\")\n",
    "k = p-q\n",
    "print(f\"{p} - {q} = {k}\")"
   ]
  },
  {
   "cell_type": "code",
   "execution_count": null,
   "id": "ed2d4822-92e7-4984-97b6-beb69adc2c05",
   "metadata": {},
   "outputs": [],
   "source": []
  }
 ],
 "metadata": {
  "kernelspec": {
   "display_name": "Python 3 (ipykernel)",
   "language": "python",
   "name": "python3"
  },
  "language_info": {
   "codemirror_mode": {
    "name": "ipython",
    "version": 3
   },
   "file_extension": ".py",
   "mimetype": "text/x-python",
   "name": "python",
   "nbconvert_exporter": "python",
   "pygments_lexer": "ipython3",
   "version": "3.12.6"
  }
 },
 "nbformat": 4,
 "nbformat_minor": 5
}

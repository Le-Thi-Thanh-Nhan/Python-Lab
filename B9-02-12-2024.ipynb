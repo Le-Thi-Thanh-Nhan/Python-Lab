{
 "cells": [
  {
   "cell_type": "code",
   "execution_count": 10,
   "id": "1fd00eb3-282f-4c02-9322-b7852bf512b4",
   "metadata": {},
   "outputs": [
    {
     "name": "stdout",
     "output_type": "stream",
     "text": [
      "Nhập dãy số nguyên:  23 45 87 92\n"
     ]
    },
    {
     "name": "stdout",
     "output_type": "stream",
     "text": [
      "Giá trị lớn thứ 2 trong danh sách là:  87\n"
     ]
    }
   ],
   "source": [
    "number = list(map(int, input(\"Nhập dãy số nguyên: \").split()))\n",
    "if len(number) < 2:\n",
    "    print(\"Cần ít nhất 2 số nguyên.\")\n",
    "\n",
    "else:\n",
    "    first = second = float('-inf')\n",
    "    for number in number:\n",
    "        if number > first:\n",
    "            second = first\n",
    "            first = number\n",
    "\n",
    "        elif number > second and number != first:\n",
    "            second = number\n",
    "\n",
    "if second == float('-inf'):\n",
    "    print(\"Không có số lớn thứ 2 do tất cả các số đều giống nhau\")\n",
    "\n",
    "else:\n",
    "    print(\"Giá trị lớn thứ 2 trong danh sách là: \", second)"
   ]
  },
  {
   "cell_type": "code",
   "execution_count": 12,
   "id": "cec84b57-29a5-44c2-b698-46fc4e69abe7",
   "metadata": {},
   "outputs": [
    {
     "name": "stdout",
     "output_type": "stream",
     "text": [
      "Nhập số lượng phần tử của dãy:  5\n",
      "Nhập số thực thứ 1:  -5\n",
      "Nhập số thực thứ 2:  -8\n",
      "Nhập số thực thứ 3:  -3\n",
      "Nhập số thực thứ 4:  2\n",
      "Nhập số thực thứ 5:  9\n"
     ]
    },
    {
     "name": "stdout",
     "output_type": "stream",
     "text": [
      "Tổng các số âm trong dãy là: -16.0\n"
     ]
    }
   ],
   "source": [
    "n = int(input(\"Nhập số lượng phần tử của dãy: \"))\n",
    "numbers = []\n",
    "\n",
    "for i in range(n):\n",
    "    num = float(input(f\"Nhập số thực thứ {i + 1}: \"))\n",
    "    numbers.append(num)\n",
    "\n",
    "tong_am = sum(num for num in numbers if num < 0)\n",
    "\n",
    "# In kết quả\n",
    "print(f\"Tổng các số âm trong dãy là: {tong_am}\")"
   ]
  },
  {
   "cell_type": "code",
   "execution_count": 17,
   "id": "23fae693-4f77-44b5-bf27-113dd72ac870",
   "metadata": {},
   "outputs": [
    {
     "name": "stdout",
     "output_type": "stream",
     "text": [
      "Nhập một số nguyên dương:  6\n"
     ]
    },
    {
     "name": "stdout",
     "output_type": "stream",
     "text": [
      "6 không phải là số nguyên tố.\n"
     ]
    }
   ],
   "source": [
    "# Nhập một số nguyên dương\n",
    "n = int(input(\"Nhập một số nguyên dương: \"))\n",
    "\n",
    "# Kiểm tra điều kiện đầu vào\n",
    "if n <= 1:\n",
    "    print(f\"{n} không phải là số nguyên tố.\")\n",
    "else:\n",
    "    # Kiểm tra số nguyên tố\n",
    "    is_prime = True\n",
    "    for i in range(2, int(n ** 0.5) + 1):  # Kiểm tra từ 2 đến căn bậc hai của n\n",
    "        if n % i == 0:\n",
    "            is_prime = False\n",
    "            break\n",
    "    \n",
    "    # In kết quả\n",
    "    if is_prime:\n",
    "        print(f\"{n} là số nguyên tố.\")\n",
    "    else:\n",
    "        print(f\"{n} không phải là số nguyên tố.\")"
   ]
  },
  {
   "cell_type": "code",
   "execution_count": 19,
   "id": "2b73ba1c-cb3e-4f9d-81cc-75f87bd87c7b",
   "metadata": {},
   "outputs": [
    {
     "name": "stdout",
     "output_type": "stream",
     "text": [
      "Nhập số lượng sinh viên:  2\n"
     ]
    },
    {
     "name": "stdout",
     "output_type": "stream",
     "text": [
      "\n",
      "Nhập thông tin cho sinh viên thứ 1:\n"
     ]
    },
    {
     "name": "stdout",
     "output_type": "stream",
     "text": [
      "Nhập mã sinh viên:  876\n",
      "Nhập tên sinh viên:  jgd\n",
      "Nhập lớp:  65f\n"
     ]
    },
    {
     "name": "stdout",
     "output_type": "stream",
     "text": [
      "\n",
      "Nhập thông tin cho sinh viên thứ 2:\n"
     ]
    },
    {
     "name": "stdout",
     "output_type": "stream",
     "text": [
      "Nhập mã sinh viên:  dsa\n",
      "Nhập tên sinh viên:  t6\n",
      "Nhập lớp:  fs\n"
     ]
    },
    {
     "name": "stdout",
     "output_type": "stream",
     "text": [
      "\n",
      "Danh sách sinh viên:\n",
      "Sinh viên thứ 0:\n",
      "Mã SV: dsa, Tên: t6, Lớp: fs\n",
      "Sinh viên thứ 1:\n",
      "Mã SV: dsa, Tên: t6, Lớp: fs\n"
     ]
    }
   ],
   "source": [
    "class SINHVIEN:\n",
    "    def __init__(self):\n",
    "        self.ma_sv = \"\"\n",
    "        self.ten = \"\"\n",
    "        self.lop = \"\"\n",
    "\n",
    "    def nhap_du_lieu(self):\n",
    "        self.ma_sv = input(\"Nhập mã sinh viên: \")\n",
    "        self.ten = input(\"Nhập tên sinh viên: \")\n",
    "        self.lop = input(\"Nhập lớp: \")\n",
    "\n",
    "    def xuat_du_lieu(self):\n",
    "        print(f\"Mã SV: {self.ma_sv}, Tên: {self.ten}, Lớp: {self.lop}\")\n",
    "\n",
    "def main():\n",
    "    danh_sach_sinh_vien = []\n",
    "    n = int(input(\"Nhập số lượng sinh viên: \"))\n",
    "\n",
    "    for i in range(n):\n",
    "        print(f\"\\nNhập thông tin cho sinh viên thứ {i + 1}:\")\n",
    "        sv = SINHVIEN()\n",
    "        sv.nhap_du_lieu()\n",
    "        danh_sach_sinh_vien.append(sv)\n",
    "\n",
    "    print(\"\\nDanh sách sinh viên:\")\n",
    "    for i in range(len(danh_sach_sinh_vien)):\n",
    "        print(f\"Sinh viên thứ {i}:\")\n",
    "        sv.xuat_du_lieu()\n",
    "\n",
    "if __name__ == \"__main__\":\n",
    "    main()"
   ]
  },
  {
   "cell_type": "code",
   "execution_count": 20,
   "id": "e823b7e1-db64-4b55-b950-cf53c5e4d5b0",
   "metadata": {},
   "outputs": [
    {
     "name": "stdout",
     "output_type": "stream",
     "text": [
      "Nhập vào một xâu ký tự:  Lê Thị Thanh Nhàn\n"
     ]
    },
    {
     "name": "stdout",
     "output_type": "stream",
     "text": [
      "Số từ trong xâu là: 4\n"
     ]
    }
   ],
   "source": [
    "# Nhập vào một xâu ký tự từ bàn phím\n",
    "xau_ky_tu = input(\"Nhập vào một xâu ký tự: \")\n",
    "\n",
    "# Loại bỏ khoảng trắng ở đầu và cuối, sau đó tách xâu thành danh sách các từ\n",
    "tu_danh_sach = xau_ky_tu.strip().split()\n",
    "\n",
    "# Đếm số từ\n",
    "so_tu = len(tu_danh_sach)\n",
    "\n",
    "print(f\"Số từ trong xâu là: {so_tu}\")\n",
    "\n",
    "xau_nguoc = xau_ky_tu[::-1]\n",
    "pprinpprinpprinpprinpprinpprinpprin"
   ]
  },
  {
   "cell_type": "code",
   "execution_count": 24,
   "id": "7cc77740-c133-47a3-972f-e42ee0292337",
   "metadata": {},
   "outputs": [
    {
     "name": "stdout",
     "output_type": "stream",
     "text": [
      "Nhập vào một xâu ký tự:  Lê thị Thanh Nhàn\n"
     ]
    },
    {
     "name": "stdout",
     "output_type": "stream",
     "text": [
      "Số từ trong xâu là: 4\n",
      "Xâu đã được đảo ngược:  nàhN hnahT ịht êL\n"
     ]
    }
   ],
   "source": [
    "# Nhập vào một xâu ký tự từ bàn phím\n",
    "xau_ky_tu = input(\"Nhập vào một xâu ký tự: \")\n",
    "\n",
    "# Loại bỏ khoảng trắng ở đầu và cuối, sau đó tách xâu thành danh sách các từ\n",
    "tu_danh_sach = xau_ky_tu.split()\n",
    "\n",
    "# Đếm số từ\n",
    "so_tu = len(tu_danh_sach)\n",
    "\n",
    "print(f\"Số từ trong xâu là: {so_tu}\")\n",
    "\n",
    "xau_nguoc = xau_ky_tu[::-1]\n",
    "print(\"Xâu đã được đảo ngược: \", xau_nguoc)"
   ]
  },
  {
   "cell_type": "code",
   "execution_count": null,
   "id": "686c5ec0-1652-4521-94d7-edae639b0f02",
   "metadata": {},
   "outputs": [],
   "source": []
  }
 ],
 "metadata": {
  "kernelspec": {
   "display_name": "Python 3 (ipykernel)",
   "language": "python",
   "name": "python3"
  },
  "language_info": {
   "codemirror_mode": {
    "name": "ipython",
    "version": 3
   },
   "file_extension": ".py",
   "mimetype": "text/x-python",
   "name": "python",
   "nbconvert_exporter": "python",
   "pygments_lexer": "ipython3",
   "version": "3.12.6"
  }
 },
 "nbformat": 4,
 "nbformat_minor": 5
}

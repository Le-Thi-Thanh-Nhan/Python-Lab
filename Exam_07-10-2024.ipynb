{
 "cells": [
  {
   "cell_type": "code",
   "execution_count": 5,
   "id": "554c0089-8185-47f3-856c-8cc60c845ad2",
   "metadata": {},
   "outputs": [
    {
     "name": "stdin",
     "output_type": "stream",
     "text": [
      "Nhập một số nguyên dương N:  56\n"
     ]
    },
    {
     "name": "stdout",
     "output_type": "stream",
     "text": [
      "Các số nguyên tố nhỏ hơn hoặc bằng 56 là: [2, 3, 5, 7, 11, 13, 17, 19, 23, 29, 31, 37, 41, 43, 47, 53]\n"
     ]
    }
   ],
   "source": [
    "#Bai 1\n",
    "def Tim_So_Nguyen_To(n):\n",
    "    # Tạo một mảng đánh dấu, ban đầu coi tất cả các số từ 0 đến N là số nguyên tố\n",
    "    soNguyenTo = [True] * (n + 1)\n",
    "    soNguyenTo[0] = soNguyenTo[1] = False  # 0 và 1 không phải là số nguyên tố\n",
    "\n",
    "    # Sàng Eratosthenes\n",
    "    for i in range(2, int(n**0.5) + 1): #Duyệt các số từ 2 đến căn bậc 2 của N số dẫ nhập + 1\n",
    "        if (soNguyenTo[i]):\n",
    "            for j in range(i * i, n + 1, i): #Với mỗi số nguyên tố tìm được, đánh dấu tất cả bội số của nó là False, lặp lại cho đén căn bậc 2 của N\n",
    "                soNguyenTo[j] = False\n",
    "\n",
    "    # Trả về danh sách các số nguyên tố nhỏ hơn hoặc bằng N\n",
    "    ketQua = [i for i in range(n + 1) if soNguyenTo[i]]\n",
    "    return ketQua\n",
    "\n",
    "# Nhập số N\n",
    "N = int(input(\"Nhập một số nguyên dương N: \"))\n",
    "if N < 2:\n",
    "    print(\"Không có số nguyên tố nào nhỏ hơn hoặc bằng\", N)\n",
    "else:\n",
    "    Xuat = Tim_So_Nguyen_To(N)\n",
    "    print(\"Các số nguyên tố nhỏ hơn hoặc bằng\", N, \"là:\", Xuat)"
   ]
  },
  {
   "cell_type": "code",
   "execution_count": 7,
   "id": "2576bdd1-b74e-45b1-ad38-9885d38d255e",
   "metadata": {},
   "outputs": [
    {
     "name": "stdin",
     "output_type": "stream",
     "text": [
      "Nhập một danh sách các số nguyên:  23 23 23 23\n"
     ]
    },
    {
     "name": "stdout",
     "output_type": "stream",
     "text": [
      "Không có số lớn thứ hai do tất cả các số đều giống nhau.\n"
     ]
    }
   ],
   "source": [
    "#Bai 2\n",
    "# Nhập danh sách các số nguyên\n",
    "numbers = list(map(int, input(\"Nhập một danh sách các số nguyên: \").split())) #Các số nguyên cách nhau bới dấu cách\n",
    "\n",
    "# Kiểm tra xem có đủ hai phần tử để tìm gtrị lớn thứ hai hay không\n",
    "if len(numbers) < 2:\n",
    "    print(\"Cần ít nhất hai số nguyên để tìm giá trị lớn thứ hai.\")\n",
    "else:\n",
    "    # Khởi tạo hai biến để lưu gtrị lớn nhất và lớn thứ hai\n",
    "    first = second = float('-inf') #gtrị khởi tạo là -inf (âm vô cùng), nên tất cả các số trong danh sách đều lớn hơn gtrị khởi tạo\n",
    "\n",
    "    for number in numbers: \n",
    "        if number > first:\n",
    "            second = first\n",
    "            first = number\n",
    "        elif number > second and number != first:\n",
    "            second = number\n",
    "\n",
    "    # Kiểm tra nếu không có gtrị lớn thứ hai (tất cả các số đều giống nhau)\n",
    "    if second == float('-inf'):\n",
    "        print(\"Không có số lớn thứ hai do tất cả các số đều giống nhau.\")\n",
    "    else:\n",
    "        print(\"Giá trị lớn thứ hai trong danh sách là:\", second)"
   ]
  },
  {
   "cell_type": "code",
   "execution_count": 13,
   "id": "ba5d3625-1deb-4c32-8171-c776e18977e4",
   "metadata": {},
   "outputs": [
    {
     "name": "stdout",
     "output_type": "stream",
     "text": [
      "Nhập Thông tin sinh viên: \n"
     ]
    },
    {
     "name": "stdin",
     "output_type": "stream",
     "text": [
      "Nhập họ tên sinh viên:  Lê Thị Thanh Nhàn\n",
      "Nhập tuổi sinh viên:  22103200077\n",
      "Nhập điểm Toán:  9\n",
      "Nhập điểm Văn:  6\n"
     ]
    },
    {
     "name": "stdout",
     "output_type": "stream",
     "text": [
      "\n",
      "Thông tin sinh viên: \n",
      "Họ tên: Lê Thị Thanh Nhàn\n",
      "Tuổi: 22103200077\n",
      "Điểm trung bình: 7.5\n"
     ]
    }
   ],
   "source": [
    "#Bai 3\n",
    "class SinhVien:\n",
    "    def __init__(self, HoTen, Tuoi, DiemToan, DiemVan):  #Hàm khởi tạo\n",
    "        self.HoTen = HoTen\n",
    "        self.Tuoi = Tuoi\n",
    "        self.DiemToan = DiemToan\n",
    "        self.DiemVan = DiemVan\n",
    "\n",
    "    def TinhDiemTB(self):\n",
    "        # Tính điểm trung bình\n",
    "        return (self.DiemToan + self.DiemVan) / 2\n",
    "\n",
    "    def HienThi(self):\n",
    "        # Hiển thị thông tin sinh viên\n",
    "        print(\"Thông tin sinh viên: \")\n",
    "        print(\"Họ tên:\", self.HoTen)\n",
    "        print(\"Tuổi:\", self.Tuoi)\n",
    "        print(\"Điểm trung bình:\", self.TinhDiemTB())\n",
    "\n",
    "\n",
    "def main():\n",
    "    # Nhập thông tin sinh viên từ bàn phím\n",
    "    print(\"Nhập Thông tin sinh viên: \")\n",
    "    HoTen = input(\"Nhập họ tên sinh viên: \")\n",
    "    Tuoi = int(input(\"Nhập tuổi sinh viên: \"))\n",
    "    DiemToan = float(input(\"Nhập điểm Toán: \"))\n",
    "    DiemVan = float(input(\"Nhập điểm Văn: \"))\n",
    "    print()\n",
    "\n",
    "    # Tạo đối tượng SinhVien\n",
    "    sinh_vien = SinhVien(HoTen, Tuoi, DiemToan, DiemVan)\n",
    "\n",
    "    # Hiển thị thông tin sinh viên\n",
    "    sinh_vien.HienThi()\n",
    "\n",
    "# Chạy chương trình\n",
    "if __name__ == \"__main__\":\n",
    "    main()"
   ]
  },
  {
   "cell_type": "code",
   "execution_count": null,
   "id": "359a85c7-b738-4470-ae89-764de6e7213e",
   "metadata": {},
   "outputs": [],
   "source": []
  }
 ],
 "metadata": {
  "kernelspec": {
   "display_name": "Python 3 (ipykernel)",
   "language": "python",
   "name": "python3"
  },
  "language_info": {
   "codemirror_mode": {
    "name": "ipython",
    "version": 3
   },
   "file_extension": ".py",
   "mimetype": "text/x-python",
   "name": "python",
   "nbconvert_exporter": "python",
   "pygments_lexer": "ipython3",
   "version": "3.12.6"
  }
 },
 "nbformat": 4,
 "nbformat_minor": 5
}

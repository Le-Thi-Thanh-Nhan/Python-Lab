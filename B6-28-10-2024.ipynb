{
 "cells": [
  {
   "cell_type": "code",
   "execution_count": 25,
   "id": "1ac55e77-fef0-4451-ac10-53688f3b7db1",
   "metadata": {},
   "outputs": [
    {
     "name": "stdout",
     "output_type": "stream",
     "text": [
      "2/3\n",
      "5/3\n",
      "21/9\n",
      "7/3\n"
     ]
    }
   ],
   "source": [
    "#Cho phân số (b khác 0) a/b\n",
    "#Hãy xác định phân số (q khác 0) p/q sao cho p/q = a/b, với p và q là hai số nguyên tố cùng nhau.\n",
    "class PhanSo:\n",
    "    def __init__(self, Tu, Mau):\n",
    "        self.Tu = Tu\n",
    "        self.Mau = Mau\n",
    "    # phương thức hiển thị\n",
    "    def HienThi(self):\n",
    "        print(f\"{self.Tu}/{self.Mau}\")\n",
    "    # phương thức cộng\n",
    "    def Cong(self, p):\n",
    "        kq =  PhanSo(1,0)\n",
    "        kq.Tu = self.Tu * p.Mau + p.Tu * self.Mau;\n",
    "        kq.Mau = self.Mau * p.Mau\n",
    "        return kq\n",
    "         \n",
    "    def RutGon(self):\n",
    "        gcd = math.gcd(self.Tu, self.Mau)\n",
    "        self.Tu //= gcd\n",
    "        self.Mau //= gcd\n",
    "        return self\n",
    "    \n",
    "p1, p2 = PhanSo(2,3), PhanSo(5,3)\n",
    "p1.HienThi()\n",
    "p2.HienThi()\n",
    "p3= p1.Cong(p2)\n",
    "p3.HienThi()\n",
    "p3.RutGon()\n",
    "p3.HienThi()\n"
   ]
  },
  {
   "cell_type": "code",
   "execution_count": null,
   "id": "2e4511c1-a826-4ebd-bd47-6acc696f1374",
   "metadata": {},
   "outputs": [],
   "source": []
  }
 ],
 "metadata": {
  "kernelspec": {
   "display_name": "Python 3 (ipykernel)",
   "language": "python",
   "name": "python3"
  },
  "language_info": {
   "codemirror_mode": {
    "name": "ipython",
    "version": 3
   },
   "file_extension": ".py",
   "mimetype": "text/x-python",
   "name": "python",
   "nbconvert_exporter": "python",
   "pygments_lexer": "ipython3",
   "version": "3.12.6"
  }
 },
 "nbformat": 4,
 "nbformat_minor": 5
}

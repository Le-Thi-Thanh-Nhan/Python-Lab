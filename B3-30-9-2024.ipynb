{
 "cells": [
  {
   "cell_type": "code",
   "execution_count": 5,
   "id": "86734766-60e5-4241-a0f2-6f036c096687",
   "metadata": {},
   "outputs": [
    {
     "name": "stdout",
     "output_type": "stream",
     "text": [
      "số lần xuất hiện từ hôm trong xâu s1 là: 2\n",
      "số lần xuất hiện từ hôm trong xâu s1 là: 2\n"
     ]
    }
   ],
   "source": [
    "s1 = 'hôm qua em tới trường, mẹ dắt em từng bước, hôm nay mẹ lên nương' #kiểu xâu\n",
    "s2 = 'hôm'\n",
    "\n",
    "print('số lần xuất hiện từ hôm trong xâu s1 là: %d'%(s1.count(s2)))\n",
    "print(f'số lần xuất hiện từ hôm trong xâu s1 là: {s1.count(s2)}')"
   ]
  },
  {
   "cell_type": "code",
   "execution_count": 18,
   "id": "40f0bd3a-a618-49bd-9749-2922107146d3",
   "metadata": {},
   "outputs": [
    {
     "name": "stdout",
     "output_type": "stream",
     "text": [
      "[1, 3, 5, 8]\n",
      "3\n",
      "[1, 3, 5, 8, 'hoa']\n",
      "hoa\n",
      "[3, 5]\n",
      "[3, 5, 8]\n"
     ]
    }
   ],
   "source": [
    "l = [1, 3, 5, 8]\n",
    "print(l)\n",
    "\n",
    "print(l[1]) #in ra phần tử thứ 2(do chuỗi bắt đầu từ 0)\n",
    "\n",
    "l.append('hoa') #thêm phần tử vào cuối list\n",
    "print(l)\n",
    "\n",
    "print(l[-1])\n",
    "\n",
    "print(l[1:3])\n",
    "\n",
    "print(l[1:4])"
   ]
  },
  {
   "cell_type": "code",
   "execution_count": 19,
   "id": "ceeb8abd-f599-4777-862d-3975f5324d6f",
   "metadata": {},
   "outputs": [
    {
     "data": {
      "text/plain": [
       "['Nam', 3, 5, 8, 'hoa']"
      ]
     },
     "execution_count": 19,
     "metadata": {},
     "output_type": "execute_result"
    }
   ],
   "source": [
    "l[0] = 'Nam'\n",
    "l"
   ]
  },
  {
   "cell_type": "code",
   "execution_count": 21,
   "id": "cefe4054-1c46-4224-8bc0-9b4298c8db81",
   "metadata": {},
   "outputs": [
    {
     "name": "stdout",
     "output_type": "stream",
     "text": [
      "True\n",
      "False\n"
     ]
    }
   ],
   "source": [
    "print('Nam' in l)\n",
    "print('Kiên' in l)"
   ]
  },
  {
   "cell_type": "code",
   "execution_count": 25,
   "id": "c5b57623-60cb-4d9d-abdc-d19d20cda6e3",
   "metadata": {},
   "outputs": [
    {
     "data": {
      "text/plain": [
       "['Nam', 3, 5, 8, 'hoa', 'XX', 'YY']"
      ]
     },
     "execution_count": 25,
     "metadata": {},
     "output_type": "execute_result"
    }
   ],
   "source": [
    "l.extend(['XX', 'YY'])\n",
    "l"
   ]
  },
  {
   "cell_type": "code",
   "execution_count": 29,
   "id": "a16f896d-6615-4816-ab90-db795af20e55",
   "metadata": {},
   "outputs": [
    {
     "name": "stdout",
     "output_type": "stream",
     "text": [
      "[1, 2, 3, 4, 5]\n",
      "[5, 4, 3, 2, 1]\n"
     ]
    }
   ],
   "source": [
    "l = [1, 2, 3, 4, 5] #kiểu list\n",
    "l.sort()\n",
    "print(l)\n",
    "\n",
    "l.reverse()\n",
    "print(l)"
   ]
  },
  {
   "cell_type": "code",
   "execution_count": 30,
   "id": "109ad753-a48a-4c6a-a6d0-78b8af6a20aa",
   "metadata": {},
   "outputs": [
    {
     "data": {
      "text/plain": [
       "['A', 'B', 'C', 'D', 'E', 'F']"
      ]
     },
     "execution_count": 30,
     "metadata": {},
     "output_type": "execute_result"
    }
   ],
   "source": [
    "s = 'ABCDEF'\n",
    "l = list(s)\n",
    "l"
   ]
  },
  {
   "cell_type": "code",
   "execution_count": 32,
   "id": "39dfe866-5b32-4e85-a412-435b9716cf04",
   "metadata": {},
   "outputs": [
    {
     "data": {
      "text/plain": [
       "'ABCDEF'"
      ]
     },
     "execution_count": 32,
     "metadata": {},
     "output_type": "execute_result"
    }
   ],
   "source": [
    "s1 = ''.join(l)\n",
    "s1"
   ]
  },
  {
   "cell_type": "code",
   "execution_count": 33,
   "id": "9d189014-3107-4d6e-8dfa-348dd9a0b198",
   "metadata": {},
   "outputs": [
    {
     "name": "stdout",
     "output_type": "stream",
     "text": [
      "[1, 2, 3]\n"
     ]
    }
   ],
   "source": [
    "a = [1, 2, 3, 4, 5]\n",
    "b = a[0:3] #đã copy sang b, nếu sau này thay đổi a, b vẫn sẽ không thay đổi\n",
    "print(b)"
   ]
  },
  {
   "cell_type": "code",
   "execution_count": 37,
   "id": "893bc092-ca58-462e-858f-fb8f51b25fe7",
   "metadata": {},
   "outputs": [
    {
     "name": "stdout",
     "output_type": "stream",
     "text": [
      "('Hoa', 29, 'Hà Nội')\n",
      "Hoa\n",
      "(1, 2, 3)\n",
      "('Hoa', 29, 'Hà Nội')\n"
     ]
    }
   ],
   "source": [
    "t = ('Hoa', 29, 'Hà Nội') #kiểu bộ\n",
    "print(t)\n",
    "print(t[0])\n",
    "\n",
    "k = (1, 2, 3)\n",
    "print(k)\n",
    "\n",
    "k = t\n",
    "print(k)"
   ]
  },
  {
   "cell_type": "code",
   "execution_count": 39,
   "id": "38c91f96-39da-4082-9174-4aad2130bfe2",
   "metadata": {},
   "outputs": [
    {
     "name": "stdout",
     "output_type": "stream",
     "text": [
      "Sinh viên\n",
      "Nhập từ cần tra cứu: \n"
     ]
    }
   ],
   "source": [
    "#kiểu dictionary\n",
    "d = dict({})\n",
    "d.update({'hello':'Xin chào'})\n",
    "d.update({'student':'Sinh viên'})\n",
    "print(d['student'])\n",
    "print('Nhập từ cần tra cứu: ')\n",
    "print(f'Nghĩa của từ "
   ]
  },
  {
   "cell_type": "code",
   "execution_count": null,
   "id": "daf2bb05-1c66-4ef3-92e5-aa61ab6b7539",
   "metadata": {},
   "outputs": [],
   "source": [
    "s = \"Kim Dokja will be killed by the person he loves most\"\n",
    "d = dict({})\n",
    "for "
   ]
  },
  {
   "cell_type": "code",
   "execution_count": 1,
   "id": "5258d653-88da-4b56-8bfc-6925b14902f2",
   "metadata": {},
   "outputs": [
    {
     "name": "stdout",
     "output_type": "stream",
     "text": [
      "SV01, Đoàn Văn Dự, 2001\n",
      "SV02, Lê Thị Thanh Nhàn, 2004\n",
      "Đoàn Văn Dự\n"
     ]
    }
   ],
   "source": [
    "#xây dựng lớp sinh viên: mã sinh viên, họ tên, năm sinh\n",
    "\n",
    "class Student:\n",
    "    def __init__(self, maSV, hoTen, namSinh):\n",
    "        self.maSV = maSV\n",
    "        self.hoTen = hoTen\n",
    "        self.namSinh = namSinh\n",
    "\n",
    "    def Show(self):\n",
    "        print(f'{self.maSV}, {self.hoTen}, {self.namSinh}')\n",
    "\n",
    "sv1 = Student('SV01', 'Đoàn Văn Dự', 2001)\n",
    "sv2 = Student('SV02', 'Lê Thị Thanh Nhàn', 2004)\n",
    "\n",
    "sv1.Show()\n",
    "sv2.Show()\n",
    "\n",
    "print(sv1.hoTen)"
   ]
  },
  {
   "cell_type": "code",
   "execution_count": 2,
   "id": "ce702c02-a609-43cf-8609-6b586684c519",
   "metadata": {},
   "outputs": [
    {
     "name": "stdout",
     "output_type": "stream",
     "text": [
      "Đây là lớp sinh viên CNTT\n"
     ]
    }
   ],
   "source": [
    "class IT_Student(Student):\n",
    "    def Show(self):\n",
    "        print('Đây là lớp sinh viên CNTT')\n",
    "\n",
    "svit = IT_Student('SV01', 'Đoàn Văn Dự', 2000)\n",
    "svit.Show()"
   ]
  },
  {
   "cell_type": "code",
   "execution_count": null,
   "id": "78ce0c8f-8871-4c43-9b6f-c459eee4df62",
   "metadata": {},
   "outputs": [],
   "source": []
  }
 ],
 "metadata": {
  "kernelspec": {
   "display_name": "Python 3 (ipykernel)",
   "language": "python",
   "name": "python3"
  },
  "language_info": {
   "codemirror_mode": {
    "name": "ipython",
    "version": 3
   },
   "file_extension": ".py",
   "mimetype": "text/x-python",
   "name": "python",
   "nbconvert_exporter": "python",
   "pygments_lexer": "ipython3",
   "version": "3.12.6"
  }
 },
 "nbformat": 4,
 "nbformat_minor": 5
}

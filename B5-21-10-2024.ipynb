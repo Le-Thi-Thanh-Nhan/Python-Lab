{
 "cells": [
  {
   "cell_type": "code",
   "execution_count": 2,
   "id": "7a355885-001e-4f81-86fc-35536cbc3679",
   "metadata": {},
   "outputs": [
    {
     "name": "stdin",
     "output_type": "stream",
     "text": [
      "Bạn hãy nhập một xâu kí tự:  5 5 5 7\n"
     ]
    },
    {
     "name": "stdout",
     "output_type": "stream",
     "text": [
      "Bạn vừa nhập:  5 5 5 7\n"
     ]
    }
   ],
   "source": [
    "s = input('Bạn hãy nhập một xâu kí tự: ')\n",
    "print('Bạn vừa nhập: ', s)"
   ]
  },
  {
   "cell_type": "code",
   "execution_count": 5,
   "id": "95dcbfe0-b0af-462b-98fc-298d5741329b",
   "metadata": {},
   "outputs": [
    {
     "name": "stdin",
     "output_type": "stream",
     "text": [
      "Nhập họ tên:  Lê Thị Thanh Nhàn\n",
      "Nhập năm sinh:  2004\n"
     ]
    },
    {
     "name": "stdout",
     "output_type": "stream",
     "text": [
      "Lê Thị Thanh Nhàn\n",
      "2004\n"
     ]
    }
   ],
   "source": [
    "f = open('Data.txt', mode = 'w', encoding='utf-8')\n",
    "hoten = input('Nhập họ tên: ')\n",
    "f.write(hoten+'\\n')\n",
    "namsinh = input('Nhập năm sinh: ')\n",
    "f.write(namsinh)\n",
    "f.close()\n",
    "\n",
    "#--------Đọc lại tệp\n",
    "f = open('Data.txt', mode = 'r', encoding='utf-8')\n",
    "s = f.readlines()\n",
    "for l in s:\n",
    "    print(l.strip())\n",
    "\n",
    "f.close()"
   ]
  },
  {
   "cell_type": "code",
   "execution_count": null,
   "id": "b30b705a-342f-403c-a7a2-09f8f1f77b75",
   "metadata": {},
   "outputs": [],
   "source": [
    "import os\n",
    "os.rename('data.txt', 'data_new.txt')"
   ]
  },
  {
   "cell_type": "code",
   "execution_count": 7,
   "id": "0c1e2fc4-67b8-4e5d-b8ff-b74c9785129c",
   "metadata": {},
   "outputs": [
    {
     "name": "stdin",
     "output_type": "stream",
     "text": [
      "Nhập a =  3\n",
      "Nhập b =  4\n",
      "Nhập c =  5\n"
     ]
    },
    {
     "name": "stdout",
     "output_type": "stream",
     "text": [
      "Ba cạnh a, b, c vừa nhập là 3 cạnh của tam giác\n"
     ]
    }
   ],
   "source": [
    "#Kiểm tra 3 cạnh a, b, c có phải là 3 cạnh của tam giác không\n",
    "a = int(input('Nhập a = '))\n",
    "b = int(input('Nhập b = '))\n",
    "c = int(input('Nhập c = '))\n",
    "if(a+b>c, a+c>b, b+c>a):\n",
    "    print('Ba cạnh a, b, c vừa nhập là 3 cạnh của tam giác')\n",
    "else:\n",
    "    print('Ba cạnh a, b, c vừa nhập không phải là 3 cạnh của tam giác')"
   ]
  },
  {
   "cell_type": "code",
   "execution_count": 6,
   "id": "9a90b82f-e0c4-47a7-a1c8-a63091b82b44",
   "metadata": {},
   "outputs": [
    {
     "name": "stdin",
     "output_type": "stream",
     "text": [
      "Nhập một số nguyên dương N:  99\n"
     ]
    },
    {
     "name": "stdout",
     "output_type": "stream",
     "text": [
      "Các số nguyên tố nhỏ hơn hoặc bằng 99 là: [2, 3, 5, 7, 11, 13, 17, 19, 23, 29, 31, 37, 41, 43, 47, 53, 59, 61, 67, 71, 73, 79, 83, 89, 97]\n"
     ]
    }
   ],
   "source": [
    "#Liệt kê các số nguyên tố nhỏ hơn n(0<n<100)\n",
    "def Tim_So_Nguyen_To(n):\n",
    "    # Tạo một mảng đánh dấu, ban đầu coi tất cả các số từ 0 đến N là số nguyên tố\n",
    "    soNguyenTo = [True] * (n + 1)\n",
    "    soNguyenTo[0] = soNguyenTo[1] = False  # 0 và 1 không phải là số nguyên tố\n",
    "\n",
    "    # Sàng Eratosthenes\n",
    "    for i in range(2, int(n**0.5) + 1): #Duyệt các số từ 2 đến căn bậc 2 của N số dẫ nhập + 1\n",
    "        if (soNguyenTo[i]):\n",
    "            for j in range(i * i, n + 1, i): #Với mỗi số nguyên tố tìm được, đánh dấu tất cả bội số của nó là False, lặp lại cho đén căn bậc 2 của N\n",
    "                soNguyenTo[j] = False\n",
    "\n",
    "    # Trả về danh sách các số nguyên tố nhỏ hơn hoặc bằng N\n",
    "    ketQua = [i for i in range(n + 1) if soNguyenTo[i]]\n",
    "    return ketQua\n",
    "\n",
    "# Nhập số N\n",
    "N = int(input(\"Nhập một số nguyên dương N: \"))\n",
    "if N < 2:\n",
    "    print(\"Không có số nguyên tố nào nhỏ hơn hoặc bằng\", N)\n",
    "elif (N < 100):\n",
    "    Xuat = Tim_So_Nguyen_To(N)\n",
    "    print(\"Các số nguyên tố nhỏ hơn hoặc bằng\", N, \"là:\", Xuat)\n",
    "else:\n",
    "    print(\"Hãy nhập lại số N < 100\")"
   ]
  },
  {
   "cell_type": "code",
   "execution_count": 21,
   "id": "fa29302b-14b6-430b-aa7e-4b671fd27086",
   "metadata": {},
   "outputs": [
    {
     "name": "stdin",
     "output_type": "stream",
     "text": [
      "Nhập số nguyên dương a:  24\n",
      "Nhập số nguyên dương b:  36\n"
     ]
    },
    {
     "name": "stdout",
     "output_type": "stream",
     "text": [
      "Ước chung lớn nhất của 24 và 36 là: 12\n",
      "Bội chung nhỏ nhất của 24 và 36 là: 72\n"
     ]
    }
   ],
   "source": [
    "#Viết hàm tính ước chung lớn nhất, bội chung nhỏ nhất của 2 số nguyên dương a, b\n",
    "import math\n",
    "def gcd_lcm(a, b):\n",
    "    # Tính ước chung lớn nhất (GCD)\n",
    "    gcd = math.gcd(a, b)\n",
    "    # Tính bội chung nhỏ nhất (LCM)\n",
    "    lcm = (a * b) // gcd\n",
    "    return gcd, lcm\n",
    "\n",
    "a = int(input(\"Nhập số nguyên dương a: \"))\n",
    "b = int(input(\"Nhập số nguyên dương b: \"))\n",
    "\n",
    "gcd, lcm = gcd_lcm(a, b)\n",
    "print(f\"Ước chung lớn nhất của {a} và {b} là: {gcd}\")\n",
    "print(f\"Bội chung nhỏ nhất của {a} và {b} là: {lcm}\")\n"
   ]
  },
  {
   "cell_type": "code",
   "execution_count": 1,
   "id": "1232dd38-28eb-4e61-bcfd-e93438488af4",
   "metadata": {},
   "outputs": [
    {
     "name": "stdin",
     "output_type": "stream",
     "text": [
      "Nhập số tự nhiên k:  67\n"
     ]
    },
    {
     "name": "stdout",
     "output_type": "stream",
     "text": [
      "67 không phải là số hoàn hảo.\n",
      "Các số hoàn hảo nhỏ hơn 67 là: [6, 28]\n"
     ]
    }
   ],
   "source": [
    "#Số tự nhiên n được gọi là hoàn hảo nếu tất cả các ước tự nhiên của nó không kể chính nó bằng đúng n. ví dụ 6 = 1+2+3.\n",
    "#a) Hãy nhập k từ bàn phím và kiểm tra xem k có phải là số hoàn hảo hay không.\n",
    "#b) Liệt kê các số hoàn hảo bé hơn k\n",
    "# Hàm kiểm tra số hoàn hảo\n",
    "def is_perfect_number(num):\n",
    "    if num <= 1:\n",
    "        return False\n",
    "    sum_of_divisors = sum(i for i in range(1, num) if num % i == 0)\n",
    "    return sum_of_divisors == num\n",
    "\n",
    "# a) Kiểm tra xem k có phải là số hoàn hảo hay không\n",
    "k = int(input(\"Nhập số tự nhiên k: \"))\n",
    "if is_perfect_number(k):\n",
    "    print(f\"{k} là số hoàn hảo.\")\n",
    "else:\n",
    "    print(f\"{k} không phải là số hoàn hảo.\")\n",
    "\n",
    "# b) Liệt kê các số hoàn hảo bé hơn k\n",
    "perfect_numbers = [i for i in range(1, k) if is_perfect_number(i)]\n",
    "print(f\"Các số hoàn hảo nhỏ hơn {k} là: {perfect_numbers}\")\n"
   ]
  },
  {
   "cell_type": "code",
   "execution_count": null,
   "id": "e2cbfea1-7d64-4327-acf7-912e48a74e30",
   "metadata": {},
   "outputs": [],
   "source": []
  }
 ],
 "metadata": {
  "kernelspec": {
   "display_name": "Python 3 (ipykernel)",
   "language": "python",
   "name": "python3"
  },
  "language_info": {
   "codemirror_mode": {
    "name": "ipython",
    "version": 3
   },
   "file_extension": ".py",
   "mimetype": "text/x-python",
   "name": "python",
   "nbconvert_exporter": "python",
   "pygments_lexer": "ipython3",
   "version": "3.12.6"
  }
 },
 "nbformat": 4,
 "nbformat_minor": 5
}

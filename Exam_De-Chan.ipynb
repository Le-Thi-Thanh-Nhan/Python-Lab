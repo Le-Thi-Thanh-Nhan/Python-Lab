{
 "cells": [
  {
   "cell_type": "code",
   "execution_count": 3,
   "id": "86130b8d-bb91-4cbf-9a31-07cda9194d08",
   "metadata": {},
   "outputs": [
    {
     "name": "stdin",
     "output_type": "stream",
     "text": [
      "Nhập chuỗi:  45 33 21 78 57\n"
     ]
    },
    {
     "name": "stdout",
     "output_type": "stream",
     "text": [
      "Chuỗi sau khi đảo ngược: 75 87 12 33 54\n"
     ]
    }
   ],
   "source": [
    "#Bai 1\n",
    "chuoi = input(\"Nhập chuỗi: \")\n",
    "chuoi_dao_nguoc = chuoi[::-1]\n",
    "print(\"Chuỗi sau khi đảo ngược:\", chuoi_dao_nguoc)"
   ]
  },
  {
   "cell_type": "code",
   "execution_count": 4,
   "id": "9df49855-cef4-49aa-8357-2d43bcacb9e4",
   "metadata": {},
   "outputs": [
    {
     "name": "stdin",
     "output_type": "stream",
     "text": [
      "Nhập số lượng phần tử trong danh sách:  4\n",
      "Nhập số nguyên thứ 1:  45\n",
      "Nhập số nguyên thứ 2:  98\n",
      "Nhập số nguyên thứ 3:  65\n",
      "Nhập số nguyên thứ 4:  87\n"
     ]
    },
    {
     "name": "stdout",
     "output_type": "stream",
     "text": [
      "Danh sách sau khi sắp xếp giảm dần: [98, 87, 65, 45]\n",
      "Số lớn nhất trong danh sách là: 98\n",
      "Số nhỏ nhất trong danh sách là: 45\n"
     ]
    }
   ],
   "source": [
    "#Bai 2\n",
    "n = int(input(\"Nhập số lượng phần tử trong danh sách: \"))\n",
    "danh_sach = []\n",
    "\n",
    "for i in range(n):\n",
    "    so = int(input(f\"Nhập số nguyên thứ {i+1}: \"))\n",
    "    danh_sach.append(so)\n",
    "\n",
    "# Sắp xếp danh sách theo thứ tự giảm dần\n",
    "for i in range(len(danh_sach)):\n",
    "    for j in range(i + 1, len(danh_sach)):\n",
    "        if danh_sach[i] < danh_sach[j]:\n",
    "            danh_sach[i], danh_sach[j] = danh_sach[j], danh_sach[i]\n",
    "\n",
    "# Tìm số lớn nhất và nhỏ nhất\n",
    "so_lon_nhat = danh_sach[0]\n",
    "so_nho_nhat = danh_sach[-1]\n",
    "\n",
    "print(\"Danh sách sau khi sắp xếp giảm dần:\", danh_sach)\n",
    "print(\"Số lớn nhất trong danh sách là:\", so_lon_nhat)\n",
    "print(\"Số nhỏ nhất trong danh sách là:\", so_nho_nhat)"
   ]
  },
  {
   "cell_type": "code",
   "execution_count": 6,
   "id": "e14abd84-a9e6-47b6-aef1-2d5fcda0139a",
   "metadata": {},
   "outputs": [
    {
     "name": "stdout",
     "output_type": "stream",
     "text": [
      "Thông tin xe:\n",
      "Hãng: Toyota\n",
      "Mẫu: Camry\n",
      "Năm sản xuất: 2020\n",
      "Số cửa: 4\n"
     ]
    }
   ],
   "source": [
    "#Bai 3\n",
    "class Vehicle:\n",
    "    def __init__(self, make, model, year):\n",
    "        self.make = make\n",
    "        self.model = model\n",
    "        self.year = year\n",
    "\n",
    "# Lớp Car kế thừa từ Vehicle\n",
    "class Car(Vehicle):\n",
    "    def __init__(self, make, model, year, num_doors):\n",
    "        super().__init__(make, model, year)\n",
    "        self.num_doors = num_doors\n",
    "\n",
    "    def HienThi(self):\n",
    "        print(f\"Thông tin xe:\")\n",
    "        print(f\"Hãng: {self.make}\")\n",
    "        print(f\"Mẫu: {self.model}\")\n",
    "        print(f\"Năm sản xuất: {self.year}\")\n",
    "        print(f\"Số cửa: {self.num_doors}\")\n",
    "\n",
    "car = Car(\"Toyota\", \"Camry\", 2020, 4)\n",
    "car.HienThi()"
   ]
  },
  {
   "cell_type": "code",
   "execution_count": 7,
   "id": "da2749a6-d9da-419e-b2e1-7a8d62f17bd2",
   "metadata": {},
   "outputs": [
    {
     "name": "stdin",
     "output_type": "stream",
     "text": [
      "Nhập vào một chuỗi:  435\n"
     ]
    },
    {
     "name": "stdout",
     "output_type": "stream",
     "text": [
      "Các hoán vị có thể của chuỗi là:\n",
      "435\n",
      "453\n",
      "345\n",
      "354\n",
      "543\n",
      "534\n"
     ]
    }
   ],
   "source": [
    "#Bai 4\n",
    "from itertools import permutations\n",
    "\n",
    "chuoi = input(\"Nhập vào một chuỗi: \")\n",
    "\n",
    "# Tìm tất cả các hoán vị có thể của chuỗi\n",
    "hoan_vi = permutations(chuoi)\n",
    "\n",
    "print(\"Các hoán vị có thể của chuỗi là:\")\n",
    "for p in hoan_vi:\n",
    "    print(\"\".join(p))"
   ]
  },
  {
   "cell_type": "code",
   "execution_count": null,
   "id": "a6a3c4b9-f5cd-4adc-9c71-6f7866f07cca",
   "metadata": {},
   "outputs": [],
   "source": []
  }
 ],
 "metadata": {
  "kernelspec": {
   "display_name": "Python 3 (ipykernel)",
   "language": "python",
   "name": "python3"
  },
  "language_info": {
   "codemirror_mode": {
    "name": "ipython",
    "version": 3
   },
   "file_extension": ".py",
   "mimetype": "text/x-python",
   "name": "python",
   "nbconvert_exporter": "python",
   "pygments_lexer": "ipython3",
   "version": "3.12.6"
  }
 },
 "nbformat": 4,
 "nbformat_minor": 5
}

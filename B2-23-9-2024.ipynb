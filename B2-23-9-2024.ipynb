{
 "cells": [
  {
   "cell_type": "code",
   "execution_count": 12,
   "id": "a513ce41-05de-4ce9-bb1a-80a8141641d6",
   "metadata": {},
   "outputs": [
    {
     "name": "stdin",
     "output_type": "stream",
     "text": [
      "n =  7\n"
     ]
    },
    {
     "name": "stdout",
     "output_type": "stream",
     "text": [
      "S = 1+ 2+ 3 + 4+ ... + 7 = 28\n"
     ]
    }
   ],
   "source": [
    "#Viết chương trình tính tổng dãy số sau:\n",
    "#S = 1+ 2+ 3 + 4+ ... + n, với n là một số nguyên dương\n",
    "#Cách 1 dùng vòng lặp while\n",
    "\n",
    "n = int(input('n = '))\n",
    "s = 0\n",
    "i = 1\n",
    "while (i <= n):\n",
    "    s = s + i\n",
    "    i = i + 1\n",
    "\n",
    "print ('S = 1+ 2+ 3 + 4+ ... + %d = %d'%(n, s))\n",
    "\n"
   ]
  },
  {
   "cell_type": "code",
   "execution_count": 19,
   "id": "c91fbf78-7eab-48f4-a51c-eeb680e93a5c",
   "metadata": {},
   "outputs": [
    {
     "name": "stdin",
     "output_type": "stream",
     "text": [
      "n =  7\n"
     ]
    },
    {
     "name": "stdout",
     "output_type": "stream",
     "text": [
      "Tổng =  28\n",
      "Tổng = 28\n",
      "Tổng 28\n",
      "Tổng = 28\n"
     ]
    }
   ],
   "source": [
    "#Viết chương trình tính tổng dãy số sau:\n",
    "#S = 1+ 2+ 3 + 4+ ... + n, với n là một số nguyên dương\n",
    "#Cách 2 dùng vòng lặp for\n",
    "\n",
    "n = int(input('n = '))\n",
    "s = 0\n",
    "for i in range(1, n + 1):\n",
    "    s = s + i\n",
    "\n",
    "print(\"Tổng = \", s)\n",
    "print(\"Tổng = \"+str(s))\n",
    "print(\"Tổng %d\"%(s))\n",
    "print(f\"Tổng = {s}\")"
   ]
  },
  {
   "cell_type": "code",
   "execution_count": 4,
   "id": "6a5df261-8659-4a3d-8e74-b8292f7c2ce9",
   "metadata": {},
   "outputs": [
    {
     "name": "stdout",
     "output_type": "stream",
     "text": [
      "0\n",
      "1\n",
      "2\n",
      "3\n",
      "4\n",
      "5\n",
      "6\n",
      "7\n",
      "8\n",
      "9\n"
     ]
    }
   ],
   "source": [
    "for i in range(10):\n",
    "    print(i)"
   ]
  },
  {
   "cell_type": "code",
   "execution_count": 5,
   "id": "8c991c82-bb43-457a-b702-aba8dd6d377c",
   "metadata": {},
   "outputs": [
    {
     "name": "stdout",
     "output_type": "stream",
     "text": [
      "5\n",
      "6\n",
      "7\n",
      "8\n",
      "9\n"
     ]
    }
   ],
   "source": [
    "for i in range(5,10):\n",
    "    print(i)"
   ]
  },
  {
   "cell_type": "code",
   "execution_count": 22,
   "id": "52c71731-1257-4522-bdb7-3ed72f5f5c79",
   "metadata": {},
   "outputs": [
    {
     "name": "stdout",
     "output_type": "stream",
     "text": [
      "Ước số chung lớn nhất của -16 và 24 là 8\n",
      "Bội số chung nhỏ nhất của -16 và 24 là 48.0\n"
     ]
    }
   ],
   "source": [
    "#Tính ước chung lớn nhất, bội chung nhỏ nhất của 2 số nguyên a, b\n",
    "\n",
    "import math\n",
    "def GCD(a, b):\n",
    "    a= abs(a)\n",
    "    b= abs(b)\n",
    "    while (a!=b):\n",
    "        if (a>b):\n",
    "            a=a-b\n",
    "        else:\n",
    "            b=b-a;\n",
    "    return a\n",
    "\n",
    "\n",
    "def BCNN(a, b):\n",
    "    u = GCD(a, b)\n",
    "    return abs(a*b)/u\n",
    "\n",
    "a, b = -16, 24\n",
    "print(f\"Ước số chung lớn nhất của {a} và {b} là {GCD(a,b)}\")\n",
    "print(f\"Bội số chung nhỏ nhất của {a} và {b} là {BCNN(a,b)}\")"
   ]
  },
  {
   "cell_type": "code",
   "execution_count": 1,
   "id": "695f3d9c-9de5-49b0-b890-bf42625bc7de",
   "metadata": {},
   "outputs": [
    {
     "name": "stdout",
     "output_type": "stream",
     "text": [
      "34\n",
      "['Cộng', 'hòa', 'Xã', 'hội', 'Chủ', 'nghĩa', 'Việt', 'Nam']\n",
      "8\n",
      "Cộng\n",
      "hòa\n",
      "Xã\n",
      "hội\n",
      "Chủ\n",
      "nghĩa\n",
      "Việt\n",
      "Nam\n",
      "['Nam', 'Việt', 'nghĩa', 'Chủ', 'hội', 'Xã', 'hòa', 'Cộng']\n"
     ]
    }
   ],
   "source": [
    "S = \"Cộng hòa Xã hội Chủ nghĩa Việt Nam\"\n",
    "print(len(S)) #đếm số lượng phần tử\n",
    "\n",
    "S = S.split() #tách xâu kèm xóa kí tự trắng\n",
    "print(S)\n",
    "print(len(S))\n",
    "\n",
    "for w in S:\n",
    "    print(w)\n",
    "\n",
    "u = S[::-1]\n",
    "print(u)\n"
   ]
  },
  {
   "cell_type": "code",
   "execution_count": null,
   "id": "babd0907-40cc-4bd9-bfd9-e9b23618244c",
   "metadata": {},
   "outputs": [],
   "source": []
  }
 ],
 "metadata": {
  "kernelspec": {
   "display_name": "Python 3 (ipykernel)",
   "language": "python",
   "name": "python3"
  },
  "language_info": {
   "codemirror_mode": {
    "name": "ipython",
    "version": 3
   },
   "file_extension": ".py",
   "mimetype": "text/x-python",
   "name": "python",
   "nbconvert_exporter": "python",
   "pygments_lexer": "ipython3",
   "version": "3.12.6"
  }
 },
 "nbformat": 4,
 "nbformat_minor": 5
}

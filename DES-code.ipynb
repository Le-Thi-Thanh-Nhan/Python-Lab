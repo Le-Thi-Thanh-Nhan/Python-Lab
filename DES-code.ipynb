{
 "cells": [
  {
   "cell_type": "code",
   "execution_count": 3,
   "id": "401176ff-83a4-4ab7-a02f-b7206629247c",
   "metadata": {},
   "outputs": [
    {
     "name": "stdout",
     "output_type": "stream",
     "text": [
      "Dữ liệu sau khi hoán vị theo bảng IP: 1111000001011010000111001001001010000000111011001111011100100011\n"
     ]
    }
   ],
   "source": [
    "# Hoán vị IP\n",
    "def initial_permutation(data, ip_table):\n",
    "    # Tạo chuỗi bit kết quả sau hoán vị\n",
    "    result = ''\n",
    "    for index in ip_table:\n",
    "        result += data[index - 1]  # Vị trí trong bảng IP bắt đầu từ 1\n",
    "    return result\n",
    "\n",
    "# Bảng IP chuẩn của thuật toán DES\n",
    "ip_table = [58, 50, 42, 34, 26, 18, 10, 2,\n",
    "            60, 52, 44, 36, 28, 20, 12, 4,\n",
    "            62, 54, 46, 38, 30, 22, 14, 6,\n",
    "            64, 56, 48, 40, 32, 24, 16, 8,\n",
    "            57, 49, 41, 33, 25, 17, 9, 1,\n",
    "            59, 51, 43, 35, 27, 19, 11, 3,\n",
    "            61, 53, 45, 37, 29, 21, 13, 5,\n",
    "            63, 55, 47, 39, 31, 23, 15, 7]\n",
    "\n",
    "# Dữ liệu đầu vào là một chuỗi bit 64-bit\n",
    "data = '0000101000011011001011000011010001011101011010100111100011101001'\n",
    "\n",
    "# Thực hiện hoán vị theo bảng IP\n",
    "permuted_data = initial_permutation(data, ip_table)\n",
    "print(\"Dữ liệu sau khi hoán vị theo bảng IP:\", permuted_data)\n"
   ]
  },
  {
   "cell_type": "code",
   "execution_count": 5,
   "id": "a1bbd7a1-64a5-464a-b6e8-9f743641e956",
   "metadata": {},
   "outputs": [
    {
     "name": "stdout",
     "output_type": "stream",
     "text": [
      "Khóa sau khi hoán vị theo bảng PC-1: 11100000100110000101010011111010101011001100111100001110\n"
     ]
    }
   ],
   "source": [
    "# Hoán vị PC-1\n",
    "def permuted_choice_1(key, pc1_table):\n",
    "    result = ''\n",
    "    for index in pc1_table:\n",
    "        result += key[index - 1]  # Vị trí trong bảng PC-1 bắt đầu từ 1\n",
    "    return result\n",
    "\n",
    "pc1_table = [57, 49, 41, 33, 25, 17, 9,\n",
    "             1, 58, 50, 42, 34, 26, 18,\n",
    "             10, 2, 59, 51, 43, 35, 27,\n",
    "             19, 11, 3, 60, 52, 44, 36,\n",
    "             63, 55, 47, 39, 31, 23, 15,\n",
    "             7, 62, 54, 46, 38, 30, 22,\n",
    "             14, 6, 61, 53, 45, 37, 29,\n",
    "             21, 13, 5, 28, 20, 12, 4]\n",
    "\n",
    "key = '0000000000010010001101000101011001111000100110101011110011011111'\n",
    "\n",
    "permuted_key = permuted_choice_1(key, pc1_table)\n",
    "print(\"Khóa sau khi hoán vị theo bảng PC-1:\", permuted_key)\n"
   ]
  },
  {
   "cell_type": "code",
   "execution_count": 6,
   "id": "5d9e1d41-61e6-4811-bf61-f1fd8a7bb672",
   "metadata": {},
   "outputs": [
    {
     "name": "stdout",
     "output_type": "stream",
     "text": [
      "Khóa sau khi hoán vị theo bảng PC-2: 110010110011110110001011000011100001011111110101\n"
     ]
    }
   ],
   "source": [
    "# Hoán vị PC-2\n",
    "def permuted_choice_2(key, pc2_table):\n",
    "    result = ''\n",
    "    for index in pc2_table:\n",
    "        result += key[index - 1]  # Vị trí trong bảng PC-2 bắt đầu từ 1\n",
    "    return result\n",
    "\n",
    "pc2_table = [14, 17, 11, 24,  1,  5,\n",
    "             3,  28, 15,  6, 21, 10,\n",
    "             23, 19, 12,  4, 26,  8,\n",
    "             16,  7, 27, 20, 13,  2,\n",
    "             41, 52, 31, 37, 47, 55,\n",
    "             30, 40, 51, 45, 33, 48,\n",
    "             44, 49, 39, 56, 34, 53,\n",
    "             46, 42, 50, 36, 29, 32]\n",
    "\n",
    "key = '11110000110011001010101011110101010101100110011110001111'\n",
    "\n",
    "permuted_key = permuted_choice_2(key, pc2_table)\n",
    "print(\"Khóa sau khi hoán vị theo bảng PC-2:\", permuted_key)\n"
   ]
  },
  {
   "cell_type": "code",
   "execution_count": 7,
   "id": "7ba30860-5172-4eed-9a83-85bf1d675834",
   "metadata": {},
   "outputs": [
    {
     "name": "stdout",
     "output_type": "stream",
     "text": [
      "Dữ liệu sau khi hoán vị ngược IP^-1: 0000101000011011001011000011010001011101011010100111100011101001\n"
     ]
    }
   ],
   "source": [
    "#Hoán vị ngược IP^-1\n",
    "def permute(data, table):\n",
    "    \"\"\"Thực hiện hoán vị dựa trên bảng cung cấp\"\"\"\n",
    "    result = ''.join(data[index - 1] for index in table)\n",
    "    return result\n",
    "\n",
    "# Bảng IP^-1 trong thuật toán DES\n",
    "ip_inverse_table = [40, 8, 48, 16, 56, 24, 64, 32,\n",
    "                    39, 7, 47, 15, 55, 23, 63, 31,\n",
    "                    38, 6, 46, 14, 54, 22, 62, 30,\n",
    "                    37, 5, 45, 13, 53, 21, 61, 29,\n",
    "                    36, 4, 44, 12, 52, 20, 60, 28,\n",
    "                    35, 3, 43, 11, 51, 19, 59, 27,\n",
    "                    34, 2, 42, 10, 50, 18, 58, 26,\n",
    "                    33, 1, 41, 9, 49, 17, 57, 25]\n",
    "\n",
    "data = '0001001000110100010101101010101001100110011100110110111101111111'\n",
    "\n",
    "inversed_data = permute(permuted_data, ip_inverse_table)\n",
    "print(\"Dữ liệu sau khi hoán vị ngược IP^-1:\", inversed_data)\n"
   ]
  },
  {
   "cell_type": "code",
   "execution_count": 8,
   "id": "0b2b1b17-70d5-435d-89d7-4828ef2b2b5e",
   "metadata": {},
   "outputs": [
    {
     "name": "stdin",
     "output_type": "stream",
     "text": [
      "Nhập bản rõ (hex):  00123456789abcde\n",
      "Nhập khóa (hex):  0133457799bbcdff\n"
     ]
    },
    {
     "name": "stdout",
     "output_type": "stream",
     "text": [
      "Bản mã là: 1abff69d5a93e80b\n"
     ]
    }
   ],
   "source": [
    "#Mã hóa DES\n",
    "from Crypto.Cipher import DES\n",
    "import binascii\n",
    "\n",
    "def pad(data):\n",
    "    #Hàm bổ sung padding để đảm bảo dữ liệu có độ dài là bội số của 8\n",
    "    while len(data) % 8 != 0:\n",
    "        data += b' '\n",
    "    return data\n",
    "\n",
    "def des_encrypt(plaintext, key):\n",
    "    #Hàm mã hóa DES\n",
    "    des = DES.new(key, DES.MODE_ECB)\n",
    "    padded_text = pad(plaintext)\n",
    "    encrypted_text = des.encrypt(padded_text)\n",
    "    return binascii.hexlify(encrypted_text).decode('utf-8')\n",
    "\n",
    "def main():\n",
    "    # Nhập bản rõ và khóa từ bàn phím\n",
    "    plaintext_hex = input(\"Nhập bản rõ (hex): \")\n",
    "    key_hex = input(\"Nhập khóa (hex): \")\n",
    "\n",
    "    # Chuyển đổi bản rõ và khóa từ hệ hex sang dạng byte\n",
    "    plaintext = binascii.unhexlify(plaintext_hex)\n",
    "    key = binascii.unhexlify(key_hex)\n",
    "\n",
    "    # Đảm bảo khóa có độ dài chính xác là 8 byte\n",
    "    if len(key) != 8:\n",
    "        print(\"Khóa phải có độ dài chính xác là 8 byte.\")\n",
    "        return\n",
    "\n",
    "    # Mã hóa bản rõ\n",
    "    encrypted_text = des_encrypt(plaintext, key)\n",
    "    print(\"Bản mã là:\", encrypted_text)\n",
    "\n",
    "if __name__ == \"__main__\":\n",
    "    main()\n",
    "\n",
    "# Ví dụ:\n",
    "# Bản rõ: M = 00123456789abcde (Hệ Hex) \n",
    "# Khóa: K = 0133457799bbcdff (Hệ Hex) "
   ]
  },
  {
   "cell_type": "code",
   "execution_count": 13,
   "id": "52a34fed-bb12-4df7-bbe1-90698841ebca",
   "metadata": {},
   "outputs": [
    {
     "name": "stdin",
     "output_type": "stream",
     "text": [
      "Nhập bản mã (hex):  1abff69d5a93e80b\n",
      "Nhập khóa (hex):  0133457799bbcdff\n"
     ]
    },
    {
     "name": "stdout",
     "output_type": "stream",
     "text": [
      "Bản rõ là (hex): 00123456789abcde\n"
     ]
    }
   ],
   "source": [
    "from Crypto.Cipher import DES\n",
    "import binascii\n",
    "\n",
    "def des_decrypt(encrypted_text, key):\n",
    "    #Hàm giải mã DES\n",
    "    des = DES.new(key, DES.MODE_ECB)\n",
    "    decrypted_text = des.decrypt(encrypted_text)\n",
    "    return decrypted_text\n",
    "\n",
    "def main():\n",
    "    try:\n",
    "        # Nhập bản mã và khóa từ bàn phím\n",
    "        encrypted_hex = input(\"Nhập bản mã (hex): \")\n",
    "        key_hex = input(\"Nhập khóa (hex): \")\n",
    "\n",
    "        # Chuyển đổi bản mã và khóa từ hệ hex sang dạng byte\n",
    "        encrypted_text = binascii.unhexlify(encrypted_hex)\n",
    "        key = binascii.unhexlify(key_hex)\n",
    "\n",
    "        # Đảm bảo khóa có độ dài chính xác là 8 byte\n",
    "        if len(key) != 8:\n",
    "            print(\"Khóa phải có độ dài chính xác là 8 byte.\")\n",
    "            return\n",
    "\n",
    "        # Giải mã bản mã\n",
    "        decrypted_text = des_decrypt(encrypted_text, key)\n",
    "        \n",
    "        try:\n",
    "            # Cố gắng giải mã thành chuỗi UTF-8\n",
    "            decrypted_text_str = decrypted_text.decode('utf-8').rstrip()\n",
    "            print(\"Bản rõ là (UTF-8):\", decrypted_text_str)\n",
    "        except UnicodeDecodeError:\n",
    "            # Nếu không thành công, hiển thị chuỗi byte dưới dạng hex\n",
    "            decrypted_text_hex = binascii.hexlify(decrypted_text).decode('utf-8')\n",
    "            print(\"Bản rõ là (hex):\", decrypted_text_hex)\n",
    "\n",
    "    except binascii.Error as e:\n",
    "        print(\"Lỗi chuyển đổi hex:\", e)\n",
    "    except Exception as e:\n",
    "        print(\"Lỗi xảy ra:\", e)\n",
    "\n",
    "if __name__ == \"__main__\":\n",
    "    main()\n",
    "\n",
    "# Ví dụ:\n",
    "# Bản mã C = 1abff69d5a93e80b\n",
    "# Khóa K = 0133457799bbcdff"
   ]
  },
  {
   "cell_type": "code",
   "execution_count": null,
   "id": "5a9cf035-92a3-4b0e-9226-eddb06569181",
   "metadata": {},
   "outputs": [],
   "source": []
  }
 ],
 "metadata": {
  "kernelspec": {
   "display_name": "Python 3 (ipykernel)",
   "language": "python",
   "name": "python3"
  },
  "language_info": {
   "codemirror_mode": {
    "name": "ipython",
    "version": 3
   },
   "file_extension": ".py",
   "mimetype": "text/x-python",
   "name": "python",
   "nbconvert_exporter": "python",
   "pygments_lexer": "ipython3",
   "version": "3.12.6"
  }
 },
 "nbformat": 4,
 "nbformat_minor": 5
}

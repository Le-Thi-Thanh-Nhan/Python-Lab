{
 "cells": [
  {
   "cell_type": "code",
   "execution_count": 9,
   "id": "eaba8576-93c2-43a3-9b29-3947142c01fa",
   "metadata": {},
   "outputs": [
    {
     "name": "stdout",
     "output_type": "stream",
     "text": [
      "Nhập số phần tử mảng:  5\n",
      "Nhập số phần tử thứ 0:  1\n",
      "Nhập số phần tử thứ 1:  2\n",
      "Nhập số phần tử thứ 2:  3\n",
      "Nhập số phần tử thứ 3:  4\n",
      "Nhập số phần tử thứ 4:  5\n"
     ]
    },
    {
     "name": "stdout",
     "output_type": "stream",
     "text": [
      "1\n",
      "2\n",
      "3\n",
      "4\n",
      "5\n",
      "1\n",
      "2\n",
      "3\n",
      "4\n",
      "5\n"
     ]
    }
   ],
   "source": [
    "#Bài 3.1\n",
    "a = []\n",
    "n = int(input(\"Nhập số phần tử mảng: \"))\n",
    "if n < 0 or n > 100:\n",
    "    print(\"Số phần tử phải lớn hơn 0 và nhỏ hơn 100\")\n",
    "else:\n",
    "    for i in range(n):\n",
    "        temp = int(input(\"Nhập số phần tử thứ %d: \"%i))\n",
    "        a.append(temp)\n",
    "for i in a:\n",
    "    print(i)\n",
    "\n",
    "for i in range(len(a)):\n",
    "    print(a[i])"
   ]
  },
  {
   "cell_type": "code",
   "execution_count": 9,
   "id": "f78a13cc-86be-4bb0-86bb-2cd0d9289b08",
   "metadata": {},
   "outputs": [
    {
     "name": "stdout",
     "output_type": "stream",
     "text": [
      "Nhập số lượng phần tử của dãy:  5\n",
      "Nhập phần tử thứ 1:  8\n",
      "Nhập phần tử thứ 2:  6\n",
      "Nhập phần tử thứ 3:  9\n",
      "Nhập phần tử thứ 4:  3\n",
      "Nhập phần tử thứ 5:  -4\n"
     ]
    },
    {
     "name": "stdout",
     "output_type": "stream",
     "text": [
      "Tổng các phần tử chẵn = 10\n",
      "Giá trị lớn nhất của dãy số là: 9\n",
      "Phần tử âm lớn nhất của dãy:  -4\n",
      "Các số chẵn trong dãy:  [8, 6, -4]\n",
      "Trung bình cộng các số lẻ:  6.0\n"
     ]
    }
   ],
   "source": [
    "# Bài 3.2\n",
    "n = int(input(\"Nhập số lượng phần tử của dãy: \"))\n",
    "a = []\n",
    "for i in range(n):\n",
    "    temp = int(input(f\"Nhập phần tử thứ {i+1}: \"))\n",
    "    a.append(temp)\n",
    "\n",
    "# a. Tính tổng các phần tử là số chẵn\n",
    "tong = 0\n",
    "for i in a:\n",
    "    if i % 2 == 0:\n",
    "        tong = tong + i\n",
    "print(\"Tổng các phần tử chẵn = %d\"%tong)\n",
    "\n",
    "# b. Tìm phần tử lớn nhất của dãy\n",
    "max_num = max(a)\n",
    "print(f\"Giá trị lớn nhất của dãy số là: {max_num}\")\n",
    "\n",
    "# c. Tìm phần tử âm lớn nhất của dãy\n",
    "max_am = max((i for i in a if i < 0), default=None) \n",
    "print(\"Phần tử âm lớn nhất của dãy: \", max_am)\n",
    "\n",
    "# d. Hiển thị ra màn hình các số chẵn\n",
    "so_chan = [i for i in a if i % 2 == 0]\n",
    "print(\"Các số chẵn trong dãy: \", so_chan)\n",
    "\n",
    "# e. Tính trung bình cộng các số lẻ\n",
    "so_le = [i for i in a if i % 2 != 0]\n",
    "if so_le:\n",
    "    trung_binh_so_le = sum(so_le) / len(so_le)\n",
    "else:\n",
    "    trung_binh_so_le = 0\n",
    "print(\"Trung bình cộng các số lẻ: \", trung_binh_so_le)\n"
   ]
  },
  {
   "cell_type": "code",
   "execution_count": 7,
   "id": "2d6ee91c-35d6-407e-a6b7-fe4f01d949bd",
   "metadata": {},
   "outputs": [
    {
     "name": "stdout",
     "output_type": "stream",
     "text": [
      "Nhập số lượng số nguyên (0 < n < 100):  7\n",
      "Nhập số nguyên thứ 1:  3\n",
      "Nhập số nguyên thứ 2:  7 \n",
      "Nhập số nguyên thứ 3:  8\n",
      "Nhập số nguyên thứ 4:  4\n",
      "Nhập số nguyên thứ 5:  3\n",
      "Nhập số nguyên thứ 6:  2\n",
      "Nhập số nguyên thứ 7:  1\n"
     ]
    },
    {
     "name": "stdout",
     "output_type": "stream",
     "text": [
      "\n",
      "Các số nguyên khác nhau và số lần xuất hiện của chúng:\n",
      "Số 3 xuất hiện 2 lần\n",
      "Số 7 xuất hiện 1 lần\n",
      "Số 8 xuất hiện 1 lần\n",
      "Số 4 xuất hiện 1 lần\n",
      "Số 2 xuất hiện 1 lần\n",
      "Số 1 xuất hiện 1 lần\n"
     ]
    }
   ],
   "source": [
    "# Bài 3.3\n",
    "n = int(input(\"Nhập số lượng số nguyên (0 < n < 100): \"))\n",
    "if n <= 0 or n >= 100:\n",
    "    print(\"Số lượng không hợp lệ!\")\n",
    "else:\n",
    "    # Nhập dãy số nguyên\n",
    "    numbers = [int(input(f\"Nhập số nguyên thứ {i+1}: \")) for i in range(n)]\n",
    "\n",
    "    # Đếm số lần xuất hiện của mỗi số nguyên\n",
    "    count_dict = {}\n",
    "    for num in numbers:\n",
    "        if num in count_dict:\n",
    "            count_dict[num] += 1\n",
    "        else:\n",
    "            count_dict[num] = 1\n",
    "\n",
    "    print(\"\\nCác số nguyên khác nhau và số lần xuất hiện của chúng:\")\n",
    "    for num, count in count_dict.items():\n",
    "        print(f\"Số {num} xuất hiện {count} lần\")\n"
   ]
  },
  {
   "cell_type": "code",
   "execution_count": 11,
   "id": "390d8b0f-21ec-4399-9d3b-ee6be38ba205",
   "metadata": {},
   "outputs": [
    {
     "name": "stdout",
     "output_type": "stream",
     "text": [
      "Nhập dãy số nguyên A, cách nhau bằng dấu cách:  1 2 3 4 5 6 7\n",
      "Nhập dãy số nguyên B, cách nhau bằng dấu cách:  4 6 2 3 1 7 5\n"
     ]
    },
    {
     "name": "stdout",
     "output_type": "stream",
     "text": [
      "Dãy B là hoán vị của dãy A.\n"
     ]
    }
   ],
   "source": [
    "#Bài 3.4\n",
    "A = [int(x) for x in input(\"Nhập dãy số nguyên A, cách nhau bằng dấu cách: \").split()]\n",
    "B = [int(x) for x in input(\"Nhập dãy số nguyên B, cách nhau bằng dấu cách: \").split()]\n",
    "\n",
    "# Kiểm tra xem hai dãy có cùng độ dài hay không\n",
    "if len(A) != len(B):\n",
    "    print(\"Dãy B không phải là hoán vị của dãy A.\")\n",
    "else:\n",
    "    # Sắp xếp cả hai dãy\n",
    "    for i in range(len(A)):\n",
    "        for j in range(i+1, len(A)):\n",
    "            if A[i] > A[j]:\n",
    "                A[i], A[j] = A[j], A[i]\n",
    "    \n",
    "    for i in range(len(B)):\n",
    "        for j in range(i+1, len(B)):\n",
    "            if B[i] > B[j]:\n",
    "                B[i], B[j] = B[j], B[i]\n",
    "    \n",
    "    # So sánh từng phần tử sau khi sắp xếp\n",
    "    hoan_vi = True\n",
    "    for i in range(len(A)):\n",
    "        if A[i] != B[i]:\n",
    "            hoan_vi = False\n",
    "            break\n",
    "\n",
    "    # Kiểm tra và in kết quả\n",
    "    if hoan_vi:\n",
    "        print(\"Dãy B là hoán vị của dãy A.\")\n",
    "    else:\n",
    "        print(\"Dãy B không phải là hoán vị của dãy A.\")\n"
   ]
  },
  {
   "cell_type": "code",
   "execution_count": 3,
   "id": "1f1f8cf5-f2ad-449b-9925-9cec30136b42",
   "metadata": {},
   "outputs": [
    {
     "name": "stdout",
     "output_type": "stream",
     "text": [
      "Nhập một danh sách các số nguyên:  12 4 5 3 9 6 3\n"
     ]
    },
    {
     "name": "stdout",
     "output_type": "stream",
     "text": [
      "Giá trị lớn thứ hai trong danh sách là: 9\n"
     ]
    }
   ],
   "source": [
    "#Bài 3.5\n",
    "numbers = list(map(int, input(\"Nhập một danh sách các số nguyên: \").split()))\n",
    "\n",
    "# Kiểm tra xem có đủ hai phần tử để tìm gtrị lớn thứ hai hay không\n",
    "if len(numbers) < 2:\n",
    "    print(\"Cần ít nhất hai số nguyên để tìm giá trị lớn thứ hai.\")\n",
    "else:\n",
    "    # Khởi tạo hai biến để lưu gtrị lớn nhất và lớn thứ hai\n",
    "    first = second = float('-inf') #gtrị khởi tạo là -inf (âm vô cùng), nên tất cả các số trong danh sách đều lớn hơn gtrị khởi tạo\n",
    "\n",
    "    for number in numbers: \n",
    "        if number > first:\n",
    "            second = first\n",
    "            first = number\n",
    "        elif number > second and number != first:\n",
    "            second = number\n",
    "\n",
    "    # Kiểm tra nếu không có gtrị lớn thứ hai (tất cả các số đều giống nhau)\n",
    "    if second == float('-inf'):\n",
    "        print(\"Không có số lớn thứ hai do tất cả các số đều giống nhau.\")\n",
    "    else:\n",
    "        print(\"Giá trị lớn thứ hai trong danh sách là:\", second)"
   ]
  },
  {
   "cell_type": "code",
   "execution_count": 4,
   "id": "94cad930-646c-4de9-a18f-476edfbc3dd9",
   "metadata": {},
   "outputs": [
    {
     "name": "stdout",
     "output_type": "stream",
     "text": [
      "Nhập dãy số, cách nhau bằng dấu cách:  2 3 4 6 7 4 9 8\n",
      "Nhập số k:  6\n"
     ]
    },
    {
     "name": "stdout",
     "output_type": "stream",
     "text": [
      "Hai số trong dãy có tổng bằng 6 là: 2 và 4\n"
     ]
    }
   ],
   "source": [
    "#Bài 3.6\n",
    "numbers = [int(x) for x in input(\"Nhập dãy số, cách nhau bằng dấu cách: \").split()]\n",
    "k = int(input(\"Nhập số k: \"))\n",
    "\n",
    "# Sắp xếp dãy số \n",
    "n = len(numbers)\n",
    "for i in range(n):\n",
    "    min_idx = i\n",
    "    for j in range(i+1, n):\n",
    "        if numbers[j] < numbers[min_idx]:\n",
    "            min_idx = j\n",
    "    numbers[i], numbers[min_idx] = numbers[min_idx], numbers[i]\n",
    "\n",
    "# Tìm cặp số có tổng bằng k sử dụng hai con trỏ\n",
    "left = 0\n",
    "right = n - 1\n",
    "\n",
    "found = False\n",
    "while left < right:\n",
    "    current_sum = numbers[left] + numbers[right]\n",
    "    if current_sum == k:\n",
    "        print(f\"Hai số trong dãy có tổng bằng {k} là: {numbers[left]} và {numbers[right]}\")\n",
    "        found = True\n",
    "        break\n",
    "    elif current_sum < k:\n",
    "        left += 1\n",
    "    else:\n",
    "        right -= 1\n",
    "\n",
    "if not found:\n",
    "    print(f\"Không tìm thấy cặp số nào có tổng bằng {k}\")\n"
   ]
  },
  {
   "cell_type": "code",
   "execution_count": 12,
   "id": "baf7018f-d019-4b84-88d9-1c0dec73431c",
   "metadata": {},
   "outputs": [
    {
     "name": "stdout",
     "output_type": "stream",
     "text": [
      "Nhập dãy số, cách nhau bằng dấu cách:  1 2 3 4 6 7 8 9 3 4 5 \n"
     ]
    },
    {
     "name": "stdout",
     "output_type": "stream",
     "text": [
      "Độ dài lớn nhất của dãy con dương liên tiếp là: 11\n",
      "Tổng lớn nhất của dãy con dương liên tiếp là: 52\n"
     ]
    }
   ],
   "source": [
    "#Bài 3.7\n",
    "numbers = [int(x) for x in input(\"Nhập dãy số, cách nhau bằng dấu cách: \").split()]\n",
    "#a.\n",
    "max_length = 0\n",
    "current_length = 0\n",
    "\n",
    "for num in numbers:\n",
    "    if num > 0:\n",
    "        current_length += 1\n",
    "        if current_length > max_length:\n",
    "            max_length = current_length\n",
    "    else:\n",
    "        current_length = 0\n",
    "\n",
    "print(\"Độ dài lớn nhất của dãy con dương liên tiếp là:\", max_length)\n",
    "\n",
    "#b.\n",
    "max_sum = 0\n",
    "current_sum = 0\n",
    "\n",
    "for num in numbers:\n",
    "    if num > 0:\n",
    "        current_sum += num\n",
    "        if current_sum > max_sum:\n",
    "            max_sum = current_sum\n",
    "    else:\n",
    "        current_sum = 0\n",
    "\n",
    "print(\"Tổng lớn nhất của dãy con dương liên tiếp là:\", max_sum)\n",
    "\n"
   ]
  },
  {
   "cell_type": "code",
   "execution_count": 14,
   "id": "389ac11d-ccb8-441d-b5d9-4b2facb2f372",
   "metadata": {},
   "outputs": [
    {
     "name": "stdout",
     "output_type": "stream",
     "text": [
      "Nhập dãy số, cách nhau bằng dấu cách:  1 -2 4 -3 8 9 5 6 7\n"
     ]
    },
    {
     "name": "stdout",
     "output_type": "stream",
     "text": [
      "Độ dài lớn nhất của dãy dàn dấu là: 5\n",
      "Tổng lớn nhất của dãy con liên tiếp là: 36\n",
      "Tổng nhỏ nhất của dãy con liên tiếp là: -3\n"
     ]
    }
   ],
   "source": [
    "#Bài 3.8\n",
    "#a.\n",
    "numbers = [int(x) for x in input(\"Nhập dãy số, cách nhau bằng dấu cách: \").split()]\n",
    "\n",
    "max_length = 1\n",
    "current_length = 1\n",
    "\n",
    "for i in range(1, len(numbers)):\n",
    "    if (numbers[i] > 0 and numbers[i-1] < 0) or (numbers[i] < 0 and numbers[i-1] > 0):\n",
    "        current_length += 1\n",
    "        if current_length > max_length:\n",
    "            max_length = current_length\n",
    "    else:\n",
    "        current_length = 1\n",
    "\n",
    "print(\"Độ dài lớn nhất của dãy dàn dấu là:\", max_length)\n",
    "\n",
    "#b.\n",
    "max_sum = current_sum = numbers[0]\n",
    "\n",
    "for num in numbers[1:]:\n",
    "    current_sum = max(num, current_sum + num)\n",
    "    max_sum = max(max_sum, current_sum)\n",
    "\n",
    "print(\"Tổng lớn nhất của dãy con liên tiếp là:\", max_sum)\n",
    "\n",
    "#c.\n",
    "min_sum = current_sum = numbers[0]\n",
    "\n",
    "for num in numbers[1:]:\n",
    "    current_sum = min(num, current_sum + num)\n",
    "    min_sum = min(min_sum, current_sum)\n",
    "\n",
    "print(\"Tổng nhỏ nhất của dãy con liên tiếp là:\", min_sum)\n"
   ]
  },
  {
   "cell_type": "code",
   "execution_count": null,
   "id": "b419378b-1fd0-4f8d-9261-36d4f6e98413",
   "metadata": {},
   "outputs": [],
   "source": []
  }
 ],
 "metadata": {
  "kernelspec": {
   "display_name": "Python 3 (ipykernel)",
   "language": "python",
   "name": "python3"
  },
  "language_info": {
   "codemirror_mode": {
    "name": "ipython",
    "version": 3
   },
   "file_extension": ".py",
   "mimetype": "text/x-python",
   "name": "python",
   "nbconvert_exporter": "python",
   "pygments_lexer": "ipython3",
   "version": "3.12.6"
  }
 },
 "nbformat": 4,
 "nbformat_minor": 5
}

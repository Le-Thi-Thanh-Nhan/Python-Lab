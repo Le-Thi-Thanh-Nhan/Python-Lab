{
 "cells": [
  {
   "cell_type": "code",
   "execution_count": 1,
   "id": "8ef880ab-7fd5-4f1c-aab4-871738465107",
   "metadata": {},
   "outputs": [
    {
     "name": "stdin",
     "output_type": "stream",
     "text": [
      "Nhập vào một số nguyên dương n:  65\n"
     ]
    },
    {
     "name": "stdout",
     "output_type": "stream",
     "text": [
      "Các số chẵn từ 0 đến 65 là:\n",
      "0 2 4 6 8 10 12 14 16 18 20 22 24 26 28 30 32 34 36 38 40 42 44 46 48 50 52 54 56 58 60 62 64 "
     ]
    }
   ],
   "source": [
    "#Bai 1\n",
    "n = int(input(\"Nhập vào một số nguyên dương n: \"))\n",
    "\n",
    "#Chạy vòng lặp từ 0 đến n, bước nhảy là 2\n",
    "if n < 0:\n",
    "    print(\"Vui lòng nhập một số nguyên dương.\")\n",
    "else:\n",
    "    print(f\"Các số chẵn từ 0 đến {n} là:\")\n",
    "    for i in range(0, n + 1, 2):\n",
    "        print(i, end=\" \")"
   ]
  },
  {
   "cell_type": "code",
   "execution_count": 5,
   "id": "f9a6b171-97d0-43fd-94b3-682eb77dc672",
   "metadata": {},
   "outputs": [
    {
     "name": "stdin",
     "output_type": "stream",
     "text": [
      "Nhập một danh sách các số nguyên:  34 56 67 78 89\n"
     ]
    },
    {
     "name": "stdout",
     "output_type": "stream",
     "text": [
      "Danh sách sau khi sắp xếp tăng dần: [34, 56, 67, 78, 89]\n"
     ]
    },
    {
     "name": "stdin",
     "output_type": "stream",
     "text": [
      "Nhập số nguyên cần tìm:  34\n"
     ]
    },
    {
     "name": "stdout",
     "output_type": "stream",
     "text": [
      "Số 34 được tìm thấy ở vị trí: 0\n"
     ]
    }
   ],
   "source": [
    "#Bai 2\n",
    "danh_sach = list(map(int, input(\"Nhập một danh sách các số nguyên: \").split()))\n",
    "#Sắp xếp\n",
    "for i in range(len(danh_sach)):\n",
    "    for j in range(i + 1, len(danh_sach)):\n",
    "        if danh_sach[i] > danh_sach[j]:\n",
    "            danh_sach[i], danh_sach[j] = danh_sach[j], danh_sach[i]\n",
    "print(\"Danh sách sau khi sắp xếp tăng dần:\", danh_sach)\n",
    "\n",
    "x = int(input(\"Nhập số nguyên cần tìm: \")) \n",
    "if x in danh_sach:\n",
    "    print(f\"Số {x} được tìm thấy ở vị trí: {danh_sach.index(x)}\") \n",
    "else:\n",
    "    print(f\"Không tìm thấy số {x} trong danh sách\")"
   ]
  },
  {
   "cell_type": "code",
   "execution_count": 6,
   "id": "6921e90c-8919-40f5-aab9-42cdc448c05b",
   "metadata": {},
   "outputs": [
    {
     "data": {
      "text/plain": [
       "'Name: Buddy, Sound: Woof, Breed: Golden Retriever'"
      ]
     },
     "execution_count": 6,
     "metadata": {},
     "output_type": "execute_result"
    }
   ],
   "source": [
    "#Bai 3\n",
    "class Animal:\n",
    "    def __init__(self, name, sound):\n",
    "        self.name = name\n",
    "        self.sound = sound\n",
    "\n",
    "    def make_sound(self):\n",
    "        return f\"{self.name} says {self.sound}\"\n",
    "\n",
    "\n",
    "class Dog(Animal):\n",
    "    def __init__(self, name, sound, breed):\n",
    "        super().__init__(name, sound)\n",
    "        self.breed = breed\n",
    "\n",
    "    def HienThi(self):\n",
    "        return f\"Name: {self.name}, Sound: {self.sound}, Breed: {self.breed}\"\n",
    "\n",
    "\n",
    "# Tạo đối tượng Dog và in thông tin\n",
    "dog = Dog(\"Buddy\", \"Woof\", \"Golden Retriever\")\n",
    "dog.HienThi()\n"
   ]
  },
  {
   "cell_type": "code",
   "execution_count": 7,
   "id": "6398111e-1229-4b91-ba4a-9be0d6240e52",
   "metadata": {},
   "outputs": [
    {
     "name": "stdin",
     "output_type": "stream",
     "text": [
      "Nhập danh sách các số nguyên, cách nhau bởi dấu cách:  4 5 6 8 9 2\n"
     ]
    },
    {
     "name": "stdout",
     "output_type": "stream",
     "text": [
      "Tổng lớn nhất của dãy con là: 34\n"
     ]
    }
   ],
   "source": [
    "#Bai 4\n",
    "def max_subarray_sum(nums):\n",
    "    # Kiểm tra danh sách không rỗng\n",
    "    if len(nums) == 0:\n",
    "        return 0\n",
    "\n",
    "    max_current = max_global = nums[0]\n",
    "\n",
    "    for num in nums[1:]:\n",
    "        max_current = max(num, max_current + num)\n",
    "        if max_current > max_global:\n",
    "            max_global = max_current\n",
    "\n",
    "    return max_global\n",
    "\n",
    "def main():\n",
    "    # Nhập danh sách các số nguyên từ bàn phím\n",
    "    input_list = input(\"Nhập danh sách các số nguyên, cách nhau bởi dấu cách: \").split()\n",
    "    nums = [int(i) for i in input_list]\n",
    "\n",
    "    # Tìm tổng lớn nhất của dãy con\n",
    "    max_sum = max_subarray_sum(nums)\n",
    "    print(f\"Tổng lớn nhất của dãy con là: {max_sum}\")\n",
    "\n",
    "if __name__ == \"__main__\":\n",
    "    main()\n"
   ]
  },
  {
   "cell_type": "code",
   "execution_count": null,
   "id": "713979b1-a3ef-434f-8ca5-b4e126183934",
   "metadata": {},
   "outputs": [],
   "source": []
  }
 ],
 "metadata": {
  "kernelspec": {
   "display_name": "Python 3 (ipykernel)",
   "language": "python",
   "name": "python3"
  },
  "language_info": {
   "codemirror_mode": {
    "name": "ipython",
    "version": 3
   },
   "file_extension": ".py",
   "mimetype": "text/x-python",
   "name": "python",
   "nbconvert_exporter": "python",
   "pygments_lexer": "ipython3",
   "version": "3.12.6"
  }
 },
 "nbformat": 4,
 "nbformat_minor": 5
}

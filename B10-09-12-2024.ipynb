{
 "cells": [
  {
   "cell_type": "code",
   "execution_count": 8,
   "id": "3efa4956-e93e-4e12-aedc-d6b5195bf958",
   "metadata": {},
   "outputs": [
    {
     "name": "stdin",
     "output_type": "stream",
     "text": [
      "Nhập vào một xâu kí tự:  Lê Thị Thanh Nhàn\n"
     ]
    },
    {
     "name": "stdout",
     "output_type": "stream",
     "text": [
      "Số từ trong xâu kí tự:  4\n",
      "Từ Lê xuất hiện 1 lần\n",
      "Từ Thị xuất hiện 1 lần\n",
      "Từ Thanh xuất hiện 1 lần\n",
      "Từ Nhàn xuất hiện 1 lần\n"
     ]
    }
   ],
   "source": [
    "#Nhập vào từ bàn phím một xâu kí tự, hãy đếm số từ của xâu và số lần xuất hiện của từng từ trong xâu\n",
    "n = input('Nhập vào một xâu kí tự: ').split()\n",
    "\n",
    "so_tu = len(n)\n",
    "print('Số từ trong xâu kí tự: ', so_tu)\n",
    "\n",
    "so_lan_xuat_hien = {}\n",
    "for i in n:\n",
    "    if i in so_lan_xuat_hien:\n",
    "        so_lan_xuat_hien[i] += 1\n",
    "    else:\n",
    "        so_lan_xuat_hien[i] = 1\n",
    "\n",
    "for i, x in so_lan_xuat_hien.items():\n",
    "    print(f'Từ {i} xuất hiện {x} lần')"
   ]
  },
  {
   "cell_type": "code",
   "execution_count": null,
   "id": "b3a619df-c56f-4d76-b499-a6fce1f42b5d",
   "metadata": {},
   "outputs": [],
   "source": []
  }
 ],
 "metadata": {
  "kernelspec": {
   "display_name": "Python 3 (ipykernel)",
   "language": "python",
   "name": "python3"
  },
  "language_info": {
   "codemirror_mode": {
    "name": "ipython",
    "version": 3
   },
   "file_extension": ".py",
   "mimetype": "text/x-python",
   "name": "python",
   "nbconvert_exporter": "python",
   "pygments_lexer": "ipython3",
   "version": "3.12.6"
  }
 },
 "nbformat": 4,
 "nbformat_minor": 5
}

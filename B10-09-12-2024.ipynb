{
 "cells": [
  {
   "cell_type": "code",
   "execution_count": null,
   "id": "3efa4956-e93e-4e12-aedc-d6b5195bf958",
   "metadata": {},
   "outputs": [],
   "source": [
    "#Nhập vào từ bàn phím một xâu kí tự, hãy đếm số từ của xâu và số lần xuất hiện của từng từ trong xâu\n",
    "n = input('Nhập vào một xâu kí tự: ').split()\n",
    "\n",
    "so_tu = len(n)\n",
    "print('Số từ trong xâu kí tự: ', so_tu)\n",
    "\n",
    "so_lan_xuat_hien = {}\n",
    "for i in n:\n",
    "    if i in so_lan_xuat_hien:\n",
    "        so_lan_xuat_hien[i] += 1\n",
    "    else:\n",
    "        so_lan_xuat_hien[i] = 1\n",
    "\n",
    "for i, x in so_lan_xuat_hien.items():\n",
    "    print(f'Từ {i} xuất hiện {x} lần')"
   ]
  },
  {
   "cell_type": "code",
   "execution_count": 1,
   "id": "9400a75f",
   "metadata": {},
   "outputs": [
    {
     "name": "stdout",
     "output_type": "stream",
     "text": [
      "Ma trận:\n",
      " [[ 5 18 12 -9  8]\n",
      " [-7 10 -7 16 11]\n",
      " [-9  8  1  9 -4]\n",
      " [12 -3  2  4 13]]\n",
      "Phần tử lớn nhất của ma trận: 18\n",
      "Phần tử nhỏ nhất của ma trận: -9\n",
      "Không có điểm yên ngựa nào trong ma trận.\n"
     ]
    }
   ],
   "source": [
    "#Cho ma trận số thực n hàng m cột, \n",
    "# a. hãy tìm phần từ lớn nhất, nhỏ nhất của ma trân.\n",
    "# b. Hãy tìm điểm yên ngựa Tức là là phần tử lớn nhất trong cột \n",
    "#và nhỏ nhất trong hàng chứa nó hoặc\n",
    "#là phần tử nhỏ nhất trong cột và lớn nhất trong hàng chứa nó\n",
    "\n",
    "import numpy as np # type: ignore\n",
    "\n",
    "# Tạo ma trận ngẫu nhiên n hàng m cột\n",
    "n, m = 4, 5\n",
    "ma_tran = np.random.randint(-10, 20, size=(n, m))  # Ma trận số nguyên từ -10 đến 20\n",
    "print(\"Ma trận:\\n\", ma_tran)\n",
    "\n",
    "# a. Tìm phần tử lớn nhất và nhỏ nhất của ma trận\n",
    "max_value = np.max(ma_tran)\n",
    "min_value = np.min(ma_tran)\n",
    "print(f\"Phần tử lớn nhất của ma trận: {max_value}\")\n",
    "print(f\"Phần tử nhỏ nhất của ma trận: {min_value}\")\n",
    "\n",
    "# b. Tìm điểm yên ngựa\n",
    "diem_yen_ngua = []\n",
    "for i in range(n):  # Duyệt từng hàng\n",
    "    for j in range(m):  # Duyệt từng cột\n",
    "        # Phần tử tại vị trí (i, j)\n",
    "        x = ma_tran[i][j]\n",
    "        # Kiểm tra điều kiện: nhỏ nhất trong hàng và lớn nhất trong cột\n",
    "        if x == np.min(ma_tran[i, :]) and x == np.max(ma_tran[:, j]):\n",
    "            diem_yen_ngua.append((i, j, x))  # Lưu vị trí và giá trị điểm yên ngựa\n",
    "        # Hoặc: lớn nhất trong hàng và nhỏ nhất trong cột\n",
    "        elif x == np.max(ma_tran[i, :]) and x == np.min(ma_tran[:, j]):\n",
    "            diem_yen_ngua.append((i, j, x))\n",
    "\n",
    "# In kết quả điểm yên ngựa\n",
    "if diem_yen_ngua:\n",
    "    print(\"Các điểm yên ngựa (hàng, cột, giá trị):\")\n",
    "    for diem in diem_yen_ngua:\n",
    "        print(f\"Hàng {diem[0]}, Cột {diem[1]}, Giá trị: {diem[2]}\")\n",
    "else:\n",
    "    print(\"Không có điểm yên ngựa nào trong ma trận.\")"
   ]
  }
 ],
 "metadata": {
  "kernelspec": {
   "display_name": "Python 3",
   "language": "python",
   "name": "python3"
  },
  "language_info": {
   "codemirror_mode": {
    "name": "ipython",
    "version": 3
   },
   "file_extension": ".py",
   "mimetype": "text/x-python",
   "name": "python",
   "nbconvert_exporter": "python",
   "pygments_lexer": "ipython3",
   "version": "3.12.6"
  }
 },
 "nbformat": 4,
 "nbformat_minor": 5
}

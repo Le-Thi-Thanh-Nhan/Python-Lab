{
 "cells": [
  {
   "cell_type": "code",
   "execution_count": 1,
   "id": "6890dcb8-dad7-4f08-9d3f-297c92ff4d35",
   "metadata": {},
   "outputs": [
    {
     "name": "stdin",
     "output_type": "stream",
     "text": [
      "Nhập một số nguyên n:  45\n"
     ]
    },
    {
     "name": "stdout",
     "output_type": "stream",
     "text": [
      "Số lượng ước của 45 là: Chẵn\n"
     ]
    }
   ],
   "source": [
    "#Cho một số tự nhiên n, đếm số các ước của n là số chẵn hay lẻ\n",
    "import math\n",
    "\n",
    "def is_divisor_count_even_or_odd(n):\n",
    "    # Tính căn bậc hai của n\n",
    "    root = int(math.isqrt(n))\n",
    "    # Kiểm tra nếu căn bậc hai của n bình phương lại bằng n hay không\n",
    "    if root * root == n:\n",
    "        return \"Lẻ\"  # Nếu n là số chính phương, số lượng ước là lẻ\n",
    "    else:\n",
    "        return \"Chẵn\"  # Nếu n không là số chính phương, số lượng ước là chẵn\n",
    "\n",
    "# Nhập số nguyên n từ người dùng\n",
    "n = int(input(\"Nhập một số nguyên n: \"))\n",
    "result = is_divisor_count_even_or_odd(n)\n",
    "print(f\"Số lượng ước của {n} là: {result}\")"
   ]
  },
  {
   "cell_type": "code",
   "execution_count": null,
   "id": "6447241c-9b73-4fee-b2ac-0145a4501e9b",
   "metadata": {},
   "outputs": [],
   "source": []
  }
 ],
 "metadata": {
  "kernelspec": {
   "display_name": "Python 3 (ipykernel)",
   "language": "python",
   "name": "python3"
  },
  "language_info": {
   "codemirror_mode": {
    "name": "ipython",
    "version": 3
   },
   "file_extension": ".py",
   "mimetype": "text/x-python",
   "name": "python",
   "nbconvert_exporter": "python",
   "pygments_lexer": "ipython3",
   "version": "3.12.6"
  }
 },
 "nbformat": 4,
 "nbformat_minor": 5
}

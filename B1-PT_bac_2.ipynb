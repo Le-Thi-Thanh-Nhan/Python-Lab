{
 "cells": [
  {
   "cell_type": "code",
   "execution_count": 1,
   "id": "f1f6bed6-09ad-41fd-b0a6-2c2d7b1246c5",
   "metadata": {},
   "outputs": [
    {
     "name": "stdin",
     "output_type": "stream",
     "text": [
      "Nhập hệ số a:  3\n",
      "Nhập hệ số b:  6\n",
      "Nhập hệ số c:  8\n"
     ]
    },
    {
     "name": "stdout",
     "output_type": "stream",
     "text": [
      "Phương trình vô nghiệm 3X^2 +6X +8 = 0 trong trường số thực\n"
     ]
    }
   ],
   "source": [
    "#Giai PT bac 2\n",
    "import math\n",
    "a= float(input (\"Nhập hệ số a: \"))\n",
    "b= float(input (\"Nhập hệ số b: \"))\n",
    "c= float(input (\"Nhập hệ số c: \"))\n",
    "\n",
    "def giai_phuong_trinh_bac_hai(a, b, c):\n",
    "    delta = b**2 - 4*a*c\n",
    "    \n",
    "    if delta < 0:\n",
    "        return \"Phương trình vô nghiệm %dX^2 +%dX +%d = 0 trong trường số thực\"%(a, b, c)\n",
    "    elif delta == 0:\n",
    "        x = -b / (2*a)\n",
    "        return f\"Phương trình có nghiệm kép x = {x:.2f}\"\n",
    "    else:\n",
    "        x1 = (-b + math.sqrt(delta)) / (2*a)\n",
    "        x2 = (-b - math.sqrt(delta)) / (2*a)\n",
    "        return f\"Phương trình có hai nghiệm phân biệt: x1 = {x1:.2f}, x2 = {x2:.2f}\"\n",
    "\n",
    "ket_qua = giai_phuong_trinh_bac_hai(a, b, c)\n",
    "print(ket_qua)"
   ]
  },
  {
   "cell_type": "code",
   "execution_count": null,
   "id": "5ccfd93a-3e95-4f6f-a9b4-dd90487ecc2a",
   "metadata": {},
   "outputs": [],
   "source": []
  }
 ],
 "metadata": {
  "kernelspec": {
   "display_name": "Python 3 (ipykernel)",
   "language": "python",
   "name": "python3"
  },
  "language_info": {
   "codemirror_mode": {
    "name": "ipython",
    "version": 3
   },
   "file_extension": ".py",
   "mimetype": "text/x-python",
   "name": "python",
   "nbconvert_exporter": "python",
   "pygments_lexer": "ipython3",
   "version": "3.12.6"
  }
 },
 "nbformat": 4,
 "nbformat_minor": 5
}

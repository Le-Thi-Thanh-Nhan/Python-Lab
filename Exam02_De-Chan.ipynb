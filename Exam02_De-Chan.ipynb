{
 "cells": [
  {
   "cell_type": "code",
   "execution_count": 13,
   "metadata": {},
   "outputs": [
    {
     "name": "stdout",
     "output_type": "stream",
     "text": [
      "Tổng S = 2.718055555555556\n"
     ]
    }
   ],
   "source": [
    "#Bài 1: Cho số nguyên dương . Hãy viết hàm tính tổng\n",
    "#S = 1 + 1/2! + 1/3! + ... + 1/n!\n",
    "import math\n",
    "\n",
    "def tinh_tong(n):\n",
    "    S = 0\n",
    "    for i in range(1, n + 1):\n",
    "        S += 1 / math.factorial(i)\n",
    "    return S + 1  # Cộng thêm 1 để bao gồm thành phần đầu tiên 1\n",
    "\n",
    "# Nhập số nguyên dương từ bàn phím\n",
    "n = int(input(\"Nhập một số nguyên dương: \"))\n",
    "\n",
    "# Tính tổng và in kết quả\n",
    "S = tinh_tong(n)\n",
    "print(f\"Tổng S = {S}\")\n"
   ]
  }
 ],
 "metadata": {
  "kernelspec": {
   "display_name": "Python 3",
   "language": "python",
   "name": "python3"
  },
  "language_info": {
   "codemirror_mode": {
    "name": "ipython",
    "version": 3
   },
   "file_extension": ".py",
   "mimetype": "text/x-python",
   "name": "python",
   "nbconvert_exporter": "python",
   "pygments_lexer": "ipython3",
   "version": "3.12.6"
  }
 },
 "nbformat": 4,
 "nbformat_minor": 2
}
